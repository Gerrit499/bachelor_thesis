{
 "cells": [
  {
   "cell_type": "code",
   "execution_count": null,
   "id": "a49c5857",
   "metadata": {},
   "outputs": [
    {
     "name": "stderr",
     "output_type": "stream",
     "text": [
      "PyTorch version 2.6.0+cu126 available.\n"
     ]
    }
   ],
   "source": [
    "# 1 Setup\n",
    "import sys\n",
    "import os\n",
    "sys.path.append(os.path.abspath(\".\"))\n",
    "from model_1b1 import generate_translation\n",
    "\n",
    "import comet\n",
    "from tqdm import tqdm\n",
    "import pandas as pd\n",
    "from datasets import load_dataset\n",
    "from transformers import AutoTokenizer, AutoModelForCausalLM\n",
    "\n",
    "import torch\n",
    "import torch.nn.functional as F\n",
    "import math"
   ]
  },
  {
   "cell_type": "code",
   "execution_count": null,
   "id": "40f7864b",
   "metadata": {},
   "outputs": [
    {
     "name": "stdout",
     "output_type": "stream",
     "text": [
      "Number of language pairs: 8\n",
      "Number of examples in each language pair: [997, 997, 997, 997, 997, 997, 997, 997]\n"
     ]
    }
   ],
   "source": [
    "# 2 Data\n",
    "dataset = load_dataset(\"Muennighoff/flores200\", \"all\", revision=\"refs/pr/7\", trust_remote_code=True)\n",
    "dev_set = dataset[\"dev\"]\n",
    "lang_pairs = {\n",
    "    \"zho-eng\": dev_set.filter(lambda x: x[\"sentence_zho_Hans\"] and x[\"sentence_eng_Latn\"]),\n",
    "    \"eng-zho\": dev_set.filter(lambda x: x[\"sentence_eng_Latn\"] and x[\"sentence_zho_Hans\"]),\n",
    "    \"fra-eng\": dev_set.filter(lambda x: x[\"sentence_fra_Latn\"] and x[\"sentence_eng_Latn\"]),\n",
    "    \"eng-fra\": dev_set.filter(lambda x: x[\"sentence_eng_Latn\"] and x[\"sentence_fra_Latn\"]),\n",
    "    \"nld-eng\": dev_set.filter(lambda x: x[\"sentence_nld_Latn\"] and x[\"sentence_eng_Latn\"]),\n",
    "    \"eng-nld\": dev_set.filter(lambda x: x[\"sentence_eng_Latn\"] and x[\"sentence_nld_Latn\"]),\n",
    "    \"khk-eng\": dev_set.filter(lambda x: x[\"sentence_khk_Cyrl\"] and x[\"sentence_eng_Latn\"]),\n",
    "    \"eng-khk\": dev_set.filter(lambda x: x[\"sentence_eng_Latn\"] and x[\"sentence_khk_Cyrl\"]),\n",
    "}\n",
    "print(f\"Number of language pairs: {len(lang_pairs)}\")\n",
    "print(f\"Number of examples in each language pair: {[len(lang_pairs[lp]) for lp in lang_pairs]}\")"
   ]
  },
  {
   "cell_type": "code",
   "execution_count": null,
   "id": "94e85a69",
   "metadata": {},
   "outputs": [
    {
     "name": "stderr",
     "output_type": "stream",
     "text": [
      "[nltk_data] Downloading package punkt to\n",
      "[nltk_data]     C:\\Users\\gerri\\AppData\\Roaming\\nltk_data...\n",
      "[nltk_data]   Package punkt is already up-to-date!\n",
      "[nltk_data] Downloading package punkt_tab to\n",
      "[nltk_data]     C:\\Users\\gerri\\AppData\\Roaming\\nltk_data...\n",
      "[nltk_data]   Package punkt_tab is already up-to-date!\n"
     ]
    }
   ],
   "source": [
    "# 3 BLEU and METEOR\n",
    "import sacrebleu\n",
    "\n",
    "def compute_bleu(predictions, references):\n",
    "    if isinstance(predictions, str):\n",
    "        predictions = [predictions]\n",
    "    if isinstance(references[0], str):\n",
    "        references = [[ref] for ref in references]\n",
    "\n",
    "    scores = []\n",
    "    for pred, ref in zip(predictions, references):\n",
    "        score = sacrebleu.sentence_bleu(pred, ref).score\n",
    "        scores.append(score)\n",
    "    return scores\n",
    "\n",
    "from nltk.translate.meteor_score import meteor_score\n",
    "from nltk.tokenize import word_tokenize\n",
    "import nltk\n",
    "\n",
    "nltk.download(\"punkt\")\n",
    "nltk.download(\"punkt_tab\")\n",
    "# nltk.download('wordnet')\n",
    "# nltk.download('omw-1.4')\n",
    "\n",
    "def compute_meteor(predictions, references):\n",
    "    if isinstance(predictions, str):\n",
    "        predictions = [predictions]\n",
    "    if isinstance(references, str):\n",
    "        references = [references]\n",
    "\n",
    "    scores = []\n",
    "    for pred, ref in zip(predictions, references):\n",
    "        score = meteor_score([word_tokenize(ref)], word_tokenize(pred))\n",
    "        scores.append(score)\n",
    "    return scores"
   ]
  },
  {
   "cell_type": "code",
   "execution_count": null,
   "id": "df5d02a9",
   "metadata": {},
   "outputs": [
    {
     "data": {
      "application/vnd.jupyter.widget-view+json": {
       "model_id": "32c06973a0244d1a9c6545570bbaec10",
       "version_major": 2,
       "version_minor": 0
      },
      "text/plain": [
       "Fetching 5 files:   0%|          | 0/5 [00:00<?, ?it/s]"
      ]
     },
     "metadata": {},
     "output_type": "display_data"
    },
    {
     "name": "stderr",
     "output_type": "stream",
     "text": [
      "Lightning automatically upgraded your loaded checkpoint from v1.8.3.post1 to v2.5.1. To apply the upgrade to your files permanently, run `python -m pytorch_lightning.utilities.upgrade_checkpoint C:\\Users\\gerri\\.cache\\huggingface\\hub\\models--Unbabel--wmt22-comet-da\\snapshots\\2760a223ac957f30acfb18c8aa649b01cf1d75f2\\checkpoints\\model.ckpt`\n",
      "Encoder model frozen.\n",
      "C:\\Users\\gerri\\AppData\\Roaming\\Python\\Python312\\site-packages\\pytorch_lightning\\core\\saving.py:195: Found keys that are not in the model state dict but in the checkpoint: ['encoder.model.embeddings.position_ids']\n"
     ]
    },
    {
     "data": {
      "application/vnd.jupyter.widget-view+json": {
       "model_id": "172316d92cfb4321af9adc3dc6835883",
       "version_major": 2,
       "version_minor": 0
      },
      "text/plain": [
       "Fetching 5 files:   0%|          | 0/5 [00:00<?, ?it/s]"
      ]
     },
     "metadata": {},
     "output_type": "display_data"
    },
    {
     "name": "stderr",
     "output_type": "stream",
     "text": [
      "Lightning automatically upgraded your loaded checkpoint from v1.8.2 to v2.5.1. To apply the upgrade to your files permanently, run `python -m pytorch_lightning.utilities.upgrade_checkpoint C:\\Users\\gerri\\.cache\\huggingface\\hub\\models--Unbabel--wmt22-cometkiwi-da\\snapshots\\1ad785194e391eebc6c53e2d0776cada8f83179a\\checkpoints\\model.ckpt`\n",
      "Encoder model frozen.\n"
     ]
    }
   ],
   "source": [
    "# 4 COMET\n",
    "from comet import download_model, load_from_checkpoint\n",
    "\n",
    "# Reference-based COMET\n",
    "comet_ref_model_path = download_model(\"Unbabel/wmt22-comet-da\")\n",
    "comet_ref_model = load_from_checkpoint(comet_ref_model_path)\n",
    "\n",
    "# Reference-free COMET\n",
    "cometkiwi_model_path = download_model(\"Unbabel/wmt22-cometkiwi-da\")\n",
    "cometkiwi_model = load_from_checkpoint(cometkiwi_model_path)\n",
    "\n",
    "\n",
    "# Safety check\n",
    "if \"comet_ref_model\" not in globals():\n",
    "    comet_ref_model_path = download_model(\"Unbabel/wmt22-comet-da\")\n",
    "    comet_ref_model = load_from_checkpoint(comet_ref_model_path)\n",
    "\n",
    "if \"cometkiwi_model\" not in globals():\n",
    "    cometkiwi_model_path = download_model(\"Unbabel/wmt22-cometkiwi-da\")\n",
    "    cometkiwi_model = load_from_checkpoint(cometkiwi_model_path)\n",
    "\n",
    "# compute COMET scores\n",
    "def compute_comet_ref(srcs, mts, refs):\n",
    "    try:\n",
    "        data = [{\"src\": s, \"mt\": m, \"ref\": r} for s, m, r in zip(srcs, mts, refs)]\n",
    "        score = comet_ref_model.predict(data, gpus=1 if torch.cuda.is_available() else 0)\n",
    "        return score.scores\n",
    "    except Exception as e:\n",
    "        print(f\"[COMET-REF ERROR] {e}\")\n",
    "        return [float(\"nan\")] * len(srcs)\n",
    "\n",
    "def compute_cometkiwi(srcs, mts):\n",
    "    try:\n",
    "        data = [{\"src\": s, \"mt\": m} for s, m in zip(srcs, mts)]\n",
    "        score = cometkiwi_model.predict(data, gpus=1 if torch.cuda.is_available() else 0)\n",
    "        return score.scores\n",
    "    except Exception as e:\n",
    "        print(f\"[COMET-KIWI ERROR] {e}\")\n",
    "        return [float(\"nan\")] * len(srcs)"
   ]
  },
  {
   "cell_type": "code",
   "execution_count": null,
   "id": "cac68e29",
   "metadata": {},
   "outputs": [],
   "source": [
    "# 5 Results + getting translations\n",
    "def get_results_batched(examples, source_field, target_field, prompt_template, direction, results_list):\n",
    "    strategies = [\"greedy\"]\n",
    "\n",
    "    for strategy in strategies:\n",
    "        print(f\"\\n[Strategy: {strategy}]\")\n",
    "\n",
    "        prompts = []\n",
    "        sources = []\n",
    "        references = []\n",
    "\n",
    "        # Generate prompts and collect source/reference\n",
    "        for ex in examples:\n",
    "            source = ex[source_field]\n",
    "            reference = ex[target_field]\n",
    "            prompt = prompt_template.format(source=source)\n",
    "\n",
    "            prompts.append(prompt)\n",
    "            sources.append(source)\n",
    "            references.append(reference)\n",
    "\n",
    "        # Generate translations in batch + log probs + perplexities\n",
    "        translations = []\n",
    "        log_probs = []\n",
    "        perplexities = []\n",
    "        for prompt in tqdm(prompts, desc=f\"Translating ({strategy})\"):\n",
    "            try:\n",
    "                translation, log_prob, ppl = generate_translation(prompt, strategy)\n",
    "                translations.append(translation)\n",
    "                log_probs.append(log_prob)\n",
    "                perplexities.append(ppl)\n",
    "            except Exception as e:\n",
    "                print(f\"[ERROR] Strategy {strategy}: {e}\")\n",
    "                translations.append(\"\")\n",
    "                log_probs.append(float(\"nan\"))\n",
    "                perplexities.append(float(\"nan\"))\n",
    "\n",
    "        # Compute BLEU and METEOR in batch\n",
    "        bleu_scores = compute_bleu(translations, references)\n",
    "        meteor_scores = compute_meteor(translations, references)\n",
    "\n",
    "        # Compute COMET scores (aligned)\n",
    "        valid_indices = [i for i, t in enumerate(translations) if t.strip()]\n",
    "        comet_refs = [float(\"nan\")] * len(translations)\n",
    "        comet_wmt = [float(\"nan\")] * len(translations)\n",
    "\n",
    "        try:\n",
    "            valid_sources = [sources[i] for i in valid_indices]\n",
    "            valid_refs = [references[i] for i in valid_indices]\n",
    "            valid_trans = [translations[i] for i in valid_indices]\n",
    "\n",
    "            comet_ref_scores = compute_comet_ref(valid_sources, valid_trans, valid_refs)\n",
    "            comet_wmt_scores = compute_cometkiwi(valid_sources, valid_trans)\n",
    "\n",
    "            for j, idx in enumerate(valid_indices):\n",
    "                comet_refs[idx] = comet_ref_scores[j]\n",
    "                comet_wmt[idx] = comet_wmt_scores[j]\n",
    "        except Exception as e:\n",
    "            print(f\"[COMET ERROR] {e}\")\n",
    "\n",
    "        # Store results\n",
    "        for i in range(len(translations)):\n",
    "            results_list.append({\n",
    "                \"source\": sources[i],\n",
    "                \"reference\": references[i],\n",
    "                \"strategy\": strategy,\n",
    "                \"translation\": translations[i],\n",
    "                \"total_log_probs\": log_probs[i],\n",
    "                \"perplexity\": perplexities[i],\n",
    "                \"bleu\": bleu_scores[i],\n",
    "                \"meteor\": meteor_scores[i],\n",
    "                \"comet_ref\": comet_refs[i],\n",
    "                \"comet_wmt22\": comet_wmt[i]\n",
    "            })"
   ]
  },
  {
   "cell_type": "code",
   "execution_count": 7,
   "id": "f0d6777d",
   "metadata": {},
   "outputs": [],
   "source": [
    "output_dir = \"csv_results_1b1\"\n",
    "os.makedirs(output_dir, exist_ok=True)"
   ]
  },
  {
   "cell_type": "code",
   "execution_count": null,
   "id": "d5a6a0e4",
   "metadata": {},
   "outputs": [
    {
     "name": "stdout",
     "output_type": "stream",
     "text": [
      "\n",
      "[Strategy: greedy]\n"
     ]
    },
    {
     "name": "stderr",
     "output_type": "stream",
     "text": [
      "Translating (greedy): 100%|██████████| 997/997 [15:17<00:00,  1.09it/s]\n",
      "You are using the plain ModelCheckpoint callback. Consider using LitModelCheckpoint which with seamless uploading to Model registry.\n",
      "GPU available: True (cuda), used: True\n",
      "TPU available: False, using: 0 TPU cores\n",
      "HPU available: False, using: 0 HPUs\n",
      "You are using a CUDA device ('NVIDIA GeForce RTX 4060 Laptop GPU') that has Tensor Cores. To properly utilize them, you should set `torch.set_float32_matmul_precision('medium' | 'high')` which will trade-off precision for performance. For more details, read https://pytorch.org/docs/stable/generated/torch.set_float32_matmul_precision.html#torch.set_float32_matmul_precision\n",
      "LOCAL_RANK: 0 - CUDA_VISIBLE_DEVICES: [0]\n",
      "Predicting DataLoader 0: 100%|██████████| 63/63 [00:12<00:00,  5.24it/s]\n",
      "You are using the plain ModelCheckpoint callback. Consider using LitModelCheckpoint which with seamless uploading to Model registry.\n",
      "GPU available: True (cuda), used: True\n",
      "TPU available: False, using: 0 TPU cores\n",
      "HPU available: False, using: 0 HPUs\n",
      "LOCAL_RANK: 0 - CUDA_VISIBLE_DEVICES: [0]\n",
      "Predicting DataLoader 0: 100%|██████████| 63/63 [00:07<00:00,  8.72it/s]\n"
     ]
    }
   ],
   "source": [
    "# eng to zho\n",
    "results_to_zho = []\n",
    "source_field = \"sentence_eng_Latn\"\n",
    "target_field = \"sentence_zho_Hans\"\n",
    "prompt_en2zh = \"\"\"Task: Translate the following English text to Chinese.\n",
    "\n",
    "English text: {source}\n",
    "\n",
    "Chinese translation:\"\"\".strip()\n",
    "\n",
    "get_results_batched(\n",
    "    examples=lang_pairs[\"eng-zho\"].select(range(len(lang_pairs[\"zho-eng\"]))),\n",
    "    source_field=source_field,\n",
    "    target_field=target_field,\n",
    "    prompt_template=prompt_en2zh,\n",
    "    direction=\"eng-zho\",\n",
    "    results_list=results_to_zho\n",
    ")"
   ]
  },
  {
   "cell_type": "code",
   "execution_count": null,
   "id": "fbf3f8ea",
   "metadata": {},
   "outputs": [
    {
     "name": "stdout",
     "output_type": "stream",
     "text": [
      "                                              source  \\\n",
      "0  On Monday, scientists from the Stanford Univer...   \n",
      "1  Lead researchers say this may bring early dete...   \n",
      "2  The JAS 39C Gripen crashed onto a runway at ar...   \n",
      "3  The pilot was identified as Squadron Leader Di...   \n",
      "4  Local media reports an airport fire vehicle ro...   \n",
      "\n",
      "                                           reference strategy  \\\n",
      "0  周一，斯坦福大学医学院的科学家宣布，他们发明了一种可以将细胞按类型分类的新型诊断工具：一种可...   greedy   \n",
      "1  主要研究人员表示，这可以让低收入国家/地区的患者尽早发现癌症、肺结核、艾滋病和疟疾。在这些国...   greedy   \n",
      "2  当地时间上午 9:30 左右 (UTC 0230)，JAS 39C 鹰狮战斗机撞上跑道并发生...   greedy   \n",
      "3            涉事飞行员是空军中队长迪罗里·帕塔维 (Dilokrit Pattavee)。   greedy   \n",
      "4                           当地媒体报道，一辆机场消防车在响应火警时翻了车。   greedy   \n",
      "\n",
      "                                         translation  total_log_probs  \\\n",
      "0  星期一，斯坦福大学医学院的科学家宣布了一种新的诊断工具，可以对细胞进行分类：一种小型的打印芯...       -38.437500   \n",
      "1  研究人员表示，这种疗法可能会为低收入国家早期发现癌症、结核病、艾滋病和疟疾患者带来福音，因为...       -38.468750   \n",
      "2  雅克 39C Gripen 坠机在 9:30 am local time (0230 UTC...       -21.484375   \n",
      "3            飞行员是空军第 Squadrons 队长 Dilokrit Pattavee。       -15.085938   \n",
      "4                            当地媒体报道，一辆机场消防车在处理火警时翻车。       -10.515625   \n",
      "\n",
      "   perplexity       bleu    meteor  comet_ref  comet_wmt22  \n",
      "0    2.349416   0.000000  0.000000   0.715629     0.663295  \n",
      "1    2.752021   0.000000  0.000000   0.849041     0.769518  \n",
      "2    1.956949  12.500763  0.291262   0.690750     0.583748  \n",
      "3    2.212220   8.745825  0.084746   0.613180     0.569839  \n",
      "4    1.793558   0.000000  0.000000   0.936347     0.856481  \n"
     ]
    }
   ],
   "source": [
    "# Store in CSV\n",
    "results_to_zho_df = pd.DataFrame(results_to_zho)\n",
    "results_to_zho_df.to_csv(os.path.join(output_dir, \"eng-zho_bloomz-1b1_flores200_results.csv\"), index=False)\n",
    "print(results_to_zho_df.head())"
   ]
  },
  {
   "cell_type": "code",
   "execution_count": null,
   "id": "1c941a84",
   "metadata": {},
   "outputs": [
    {
     "name": "stdout",
     "output_type": "stream",
     "text": [
      "\n",
      "[Strategy: greedy]\n"
     ]
    },
    {
     "name": "stderr",
     "output_type": "stream",
     "text": [
      "Translating (greedy): 100%|██████████| 997/997 [18:44<00:00,  1.13s/it]\n",
      "You are using the plain ModelCheckpoint callback. Consider using LitModelCheckpoint which with seamless uploading to Model registry.\n",
      "GPU available: True (cuda), used: True\n",
      "TPU available: False, using: 0 TPU cores\n",
      "HPU available: False, using: 0 HPUs\n",
      "LOCAL_RANK: 0 - CUDA_VISIBLE_DEVICES: [0]\n",
      "Predicting DataLoader 0: 100%|██████████| 63/63 [00:12<00:00,  5.04it/s]\n",
      "You are using the plain ModelCheckpoint callback. Consider using LitModelCheckpoint which with seamless uploading to Model registry.\n",
      "GPU available: True (cuda), used: True\n",
      "TPU available: False, using: 0 TPU cores\n",
      "HPU available: False, using: 0 HPUs\n",
      "LOCAL_RANK: 0 - CUDA_VISIBLE_DEVICES: [0]\n",
      "Predicting DataLoader 0: 100%|██████████| 63/63 [00:07<00:00,  8.23it/s]\n"
     ]
    }
   ],
   "source": [
    "# eng to fra\n",
    "results_to_fra = []\n",
    "source_field = \"sentence_eng_Latn\"\n",
    "target_field = \"sentence_fra_Latn\"\n",
    "prompt_en2fr = \"\"\"Task: Translate the following English text to French.\n",
    "\n",
    "English text: {source}\n",
    "\n",
    "French translation:\"\"\".strip()\n",
    "\n",
    "get_results_batched(\n",
    "    examples=lang_pairs[\"eng-fra\"].select(range(len(lang_pairs[\"fra-eng\"]))),\n",
    "    source_field=source_field,\n",
    "    target_field=target_field,\n",
    "    prompt_template=prompt_en2fr,\n",
    "    direction=\"eng-fra\",\n",
    "    results_list=results_to_fra\n",
    ")"
   ]
  },
  {
   "cell_type": "code",
   "execution_count": null,
   "id": "17ce6d9c",
   "metadata": {},
   "outputs": [
    {
     "name": "stdout",
     "output_type": "stream",
     "text": [
      "                                              source  \\\n",
      "0  On Monday, scientists from the Stanford Univer...   \n",
      "1  Lead researchers say this may bring early dete...   \n",
      "2  The JAS 39C Gripen crashed onto a runway at ar...   \n",
      "3  The pilot was identified as Squadron Leader Di...   \n",
      "4  Local media reports an airport fire vehicle ro...   \n",
      "\n",
      "                                           reference strategy  \\\n",
      "0  Des scientifiques de l’école de médecine de l’...   greedy   \n",
      "1  Selon les chercheurs principaux, cela pourrait...   greedy   \n",
      "2  Le JAS 39C Gripen s’est écrasé sur une piste a...   greedy   \n",
      "3  Le pilote a été identifié comme étant le chef ...   greedy   \n",
      "4  La presse locale a rapporté qu'un véhicule de ...   greedy   \n",
      "\n",
      "                                         translation  total_log_probs  \\\n",
      "0  Le lundi, les scientifiques de la faculté de m...       -37.437500   \n",
      "1  Le projet de recherche mené par les chercheurs...       -58.375000   \n",
      "2  Le JAS 39C Gripen a heurté un runway à environ...       -21.062500   \n",
      "3  Le pilote a été identifié comme le capitaine D...        -5.398438   \n",
      "4  Des médias locaux rapportent un accident de la...       -11.312500   \n",
      "\n",
      "   perplexity       bleu    meteor  comet_ref  comet_wmt22  \n",
      "0    1.847308  10.479477  0.374327   0.806733     0.829171  \n",
      "1    2.055829   7.373412  0.406855   0.824604     0.803043  \n",
      "2    1.716117  36.434183  0.495879   0.877146     0.877711  \n",
      "3    1.373765  50.309893  0.675685   0.907234     0.848650  \n",
      "4    2.027962   2.197090  0.123762   0.580972     0.568734  \n"
     ]
    }
   ],
   "source": [
    "# Store in CSV\n",
    "results_to_fra_df = pd.DataFrame(results_to_fra)\n",
    "results_to_fra_df.to_csv(os.path.join(output_dir, \"eng-fra_bloomz-1b1_flores200_results.csv\"), index=False)\n",
    "print(results_to_fra_df.head())"
   ]
  },
  {
   "cell_type": "code",
   "execution_count": null,
   "id": "dc7f480b",
   "metadata": {},
   "outputs": [
    {
     "name": "stdout",
     "output_type": "stream",
     "text": [
      "\n",
      "[Strategy: greedy]\n"
     ]
    },
    {
     "name": "stderr",
     "output_type": "stream",
     "text": [
      "Translating (greedy): 100%|██████████| 997/997 [23:49<00:00,  1.43s/it]\n",
      "You are using the plain ModelCheckpoint callback. Consider using LitModelCheckpoint which with seamless uploading to Model registry.\n",
      "GPU available: True (cuda), used: True\n",
      "TPU available: False, using: 0 TPU cores\n",
      "HPU available: False, using: 0 HPUs\n",
      "LOCAL_RANK: 0 - CUDA_VISIBLE_DEVICES: [0]\n",
      "Predicting DataLoader 0: 100%|██████████| 63/63 [00:14<00:00,  4.22it/s]\n",
      "You are using the plain ModelCheckpoint callback. Consider using LitModelCheckpoint which with seamless uploading to Model registry.\n",
      "GPU available: True (cuda), used: True\n",
      "TPU available: False, using: 0 TPU cores\n",
      "HPU available: False, using: 0 HPUs\n",
      "LOCAL_RANK: 0 - CUDA_VISIBLE_DEVICES: [0]\n",
      "Predicting DataLoader 0: 100%|██████████| 63/63 [00:10<00:00,  6.15it/s]\n"
     ]
    }
   ],
   "source": [
    "# eng to nld\n",
    "results_to_nld = []\n",
    "source_field = \"sentence_eng_Latn\"\n",
    "target_field = \"sentence_nld_Latn\"\n",
    "prompt_en2nl = \"\"\"Task: Translate the following English text to Dutch.\n",
    "\n",
    "English text: {source}\n",
    "\n",
    "Dutch translation:\"\"\".strip()\n",
    "\n",
    "get_results_batched(\n",
    "    examples=lang_pairs[\"eng-nld\"].select(range(len(lang_pairs[\"nld-eng\"]))),\n",
    "    source_field=source_field,\n",
    "    target_field=target_field,\n",
    "    prompt_template=prompt_en2nl,\n",
    "    direction=\"eng-nld\",\n",
    "    results_list=results_to_nld\n",
    ")"
   ]
  },
  {
   "cell_type": "code",
   "execution_count": null,
   "id": "ac0ee44c",
   "metadata": {},
   "outputs": [
    {
     "name": "stdout",
     "output_type": "stream",
     "text": [
      "                                              source  \\\n",
      "0  On Monday, scientists from the Stanford Univer...   \n",
      "1  Lead researchers say this may bring early dete...   \n",
      "2  The JAS 39C Gripen crashed onto a runway at ar...   \n",
      "3  The pilot was identified as Squadron Leader Di...   \n",
      "4  Local media reports an airport fire vehicle ro...   \n",
      "\n",
      "                                           reference strategy  \\\n",
      "0  Op maandag kondigden wetenschappers van de Sta...   greedy   \n",
      "1  Hoofdonderzoekers zeggen dat dit kan leiden to...   greedy   \n",
      "2  De JAS 39C Gripen stortte rond 09.30 uur lokal...   greedy   \n",
      "3  De piloot werd geïdentificeerd als majoor Dilo...   greedy   \n",
      "4  De lokale media meldt dat er tijdens een actie...   greedy   \n",
      "\n",
      "                                         translation  total_log_probs  \\\n",
      "0  On Monday, scientists from the Stanford Univer...        -9.054688   \n",
      "1  Trouver un partenaire de recherche: Ce projet ...       -40.625000   \n",
      "2  JAS 39C Gripen crash on runway at around 9:30 ...       -11.492188   \n",
      "3  Pilot was identified as Squadron Leader Dilokr...        -1.860352   \n",
      "4  Media reports an airport fire vehicle rolled o...        -4.289062   \n",
      "\n",
      "   perplexity       bleu    meteor  comet_ref  comet_wmt22  \n",
      "0    1.190209   8.073097  0.141329   0.668185     0.235736  \n",
      "1    2.014621   1.878439  0.082938   0.716211     0.732069  \n",
      "2    1.416584   6.330201  0.214424   0.657493     0.300336  \n",
      "3    1.123301  17.747405  0.327160   0.708699     0.332480  \n",
      "4    1.429639   2.172130  0.060976   0.517846     0.243970  \n"
     ]
    }
   ],
   "source": [
    "# Store in CSV\n",
    "results_to_nld_df = pd.DataFrame(results_to_nld)\n",
    "results_to_nld_df.to_csv(os.path.join(output_dir, \"eng-nld_bloomz-1b1_flores200_results.csv\"), index=False)\n",
    "print(results_to_nld_df.head())"
   ]
  },
  {
   "cell_type": "code",
   "execution_count": null,
   "id": "c225ef61",
   "metadata": {},
   "outputs": [
    {
     "name": "stdout",
     "output_type": "stream",
     "text": [
      "\n",
      "[Strategy: greedy]\n"
     ]
    },
    {
     "name": "stderr",
     "output_type": "stream",
     "text": [
      "Translating (greedy): 100%|██████████| 997/997 [27:16<00:00,  1.64s/it] \n",
      "You are using the plain ModelCheckpoint callback. Consider using LitModelCheckpoint which with seamless uploading to Model registry.\n",
      "GPU available: True (cuda), used: True\n",
      "TPU available: False, using: 0 TPU cores\n",
      "HPU available: False, using: 0 HPUs\n",
      "You are using a CUDA device ('NVIDIA GeForce RTX 4060 Laptop GPU') that has Tensor Cores. To properly utilize them, you should set `torch.set_float32_matmul_precision('medium' | 'high')` which will trade-off precision for performance. For more details, read https://pytorch.org/docs/stable/generated/torch.set_float32_matmul_precision.html#torch.set_float32_matmul_precision\n",
      "LOCAL_RANK: 0 - CUDA_VISIBLE_DEVICES: [0]\n",
      "Predicting DataLoader 0: 100%|██████████| 63/63 [00:19<00:00,  3.23it/s]\n",
      "You are using the plain ModelCheckpoint callback. Consider using LitModelCheckpoint which with seamless uploading to Model registry.\n",
      "GPU available: True (cuda), used: True\n",
      "TPU available: False, using: 0 TPU cores\n",
      "HPU available: False, using: 0 HPUs\n",
      "LOCAL_RANK: 0 - CUDA_VISIBLE_DEVICES: [0]\n",
      "Predicting DataLoader 0: 100%|██████████| 63/63 [00:13<00:00,  4.54it/s]\n"
     ]
    }
   ],
   "source": [
    "# eng to khk\n",
    "results_to_khk = []\n",
    "source_field = \"sentence_eng_Latn\"\n",
    "target_field = \"sentence_khk_Cyrl\"\n",
    "prompt_en2kh = \"\"\"Task: Translate the following English text to Mongolian.\n",
    "\n",
    "English text: {source}\n",
    "\n",
    "Mongolian translation:\"\"\".strip()\n",
    "\n",
    "get_results_batched(\n",
    "    examples=lang_pairs[\"eng-khk\"].select(range(len(lang_pairs[\"khk-eng\"]))),\n",
    "    source_field=source_field,\n",
    "    target_field=target_field,\n",
    "    prompt_template=prompt_en2kh,\n",
    "    direction=\"eng-khk\",\n",
    "    results_list=results_to_khk\n",
    ")"
   ]
  },
  {
   "cell_type": "code",
   "execution_count": 11,
   "id": "780a616b",
   "metadata": {},
   "outputs": [
    {
     "name": "stdout",
     "output_type": "stream",
     "text": [
      "                                              source  \\\n",
      "0  On Monday, scientists from the Stanford Univer...   \n",
      "1  Lead researchers say this may bring early dete...   \n",
      "2  The JAS 39C Gripen crashed onto a runway at ar...   \n",
      "3  The pilot was identified as Squadron Leader Di...   \n",
      "4  Local media reports an airport fire vehicle ro...   \n",
      "\n",
      "                                           reference strategy  \\\n",
      "0  Даваа гарагт Стэнфордын Их Сургуулийн Анагаахы...   greedy   \n",
      "1  Гол судлаачдын зүгээс энэ нь хөхний хорт хавда...   greedy   \n",
      "2  ЖАС 39Си Грипен нь орон нутгийн цагаар өглөөни...   greedy   \n",
      "3  Нисгэгч нь Эскадрилийн аххлагч Дилокрит Паттав...   greedy   \n",
      "4  Нисэх онгоцны буудлын галын машин өнхөрсөн тал...   greedy   \n",
      "\n",
      "                                         translation  total_log_probs  \\\n",
      "0  Monday, scientists from the Stanford Universit...        -8.765625   \n",
      "1  Taktulu: U begele bu nga ku nga ku nga ku nga ...       -50.093750   \n",
      "2  JAS 39C Gripen crashed onto a runway at around...        -7.687500   \n",
      "3  Pilot was identified as Squadron Leader Dilokr...        -2.382812   \n",
      "4  Media reports an airport fire vehicle rolled o...        -5.148438   \n",
      "\n",
      "   perplexity      bleu    meteor  comet_ref  comet_wmt22  \n",
      "0    1.187529  1.000940  0.024155   0.339274     0.232833  \n",
      "1    1.650268  0.000000  0.000000   0.191273     0.326809  \n",
      "2    1.253705  1.823281  0.077160   0.430567     0.316895  \n",
      "3    1.160587  4.767707  0.055556   0.400343     0.332480  \n",
      "4    1.535777  3.422098  0.042017   0.303913     0.243970  \n"
     ]
    }
   ],
   "source": [
    "# Store in CSV\n",
    "results_to_khk_df = pd.DataFrame(results_to_khk)\n",
    "results_to_khk_df.to_csv(os.path.join(output_dir, \"eng-khk_bloomz-1b1_flores200_results.csv\"), index=False)\n",
    "print(results_to_khk_df.head())"
   ]
  }
 ],
 "metadata": {
  "kernelspec": {
   "display_name": "base",
   "language": "python",
   "name": "python3"
  },
  "language_info": {
   "codemirror_mode": {
    "name": "ipython",
    "version": 3
   },
   "file_extension": ".py",
   "mimetype": "text/x-python",
   "name": "python",
   "nbconvert_exporter": "python",
   "pygments_lexer": "ipython3",
   "version": "3.12.7"
  }
 },
 "nbformat": 4,
 "nbformat_minor": 5
}

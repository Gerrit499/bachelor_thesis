{
 "cells": [
  {
   "cell_type": "code",
   "execution_count": 1,
   "id": "a49c5857",
   "metadata": {},
   "outputs": [
    {
     "name": "stderr",
     "output_type": "stream",
     "text": [
      "PyTorch version 2.6.0+cu126 available.\n"
     ]
    }
   ],
   "source": [
    "# 1 Setup\n",
    "import sys\n",
    "import os\n",
    "sys.path.append(os.path.abspath(\".\"))\n",
    "from model_1b1 import generate_translation\n",
    "\n",
    "import comet\n",
    "from tqdm import tqdm\n",
    "import pandas as pd\n",
    "from datasets import load_dataset\n",
    "from transformers import AutoTokenizer, AutoModelForCausalLM\n",
    "\n",
    "import torch\n",
    "import torch.nn.functional as F\n",
    "import math"
   ]
  },
  {
   "cell_type": "code",
   "execution_count": 2,
   "id": "40f7864b",
   "metadata": {},
   "outputs": [
    {
     "name": "stdout",
     "output_type": "stream",
     "text": [
      "Number of language pairs: 8\n",
      "Number of examples in each language pair: [997, 997, 997, 997, 997, 997, 997, 997]\n"
     ]
    }
   ],
   "source": [
    "# 2 Data\n",
    "dataset = load_dataset(\"Muennighoff/flores200\", \"all\", revision=\"refs/pr/7\", trust_remote_code=True)\n",
    "dev_set = dataset[\"dev\"]\n",
    "lang_pairs = {\n",
    "    \"zho-eng\": dev_set.filter(lambda x: x[\"sentence_zho_Hans\"] and x[\"sentence_eng_Latn\"]),\n",
    "    \"eng-zho\": dev_set.filter(lambda x: x[\"sentence_eng_Latn\"] and x[\"sentence_zho_Hans\"]),\n",
    "    \"fra-eng\": dev_set.filter(lambda x: x[\"sentence_fra_Latn\"] and x[\"sentence_eng_Latn\"]),\n",
    "    \"eng-fra\": dev_set.filter(lambda x: x[\"sentence_eng_Latn\"] and x[\"sentence_fra_Latn\"]),\n",
    "    \"nld-eng\": dev_set.filter(lambda x: x[\"sentence_nld_Latn\"] and x[\"sentence_eng_Latn\"]),\n",
    "    \"eng-nld\": dev_set.filter(lambda x: x[\"sentence_eng_Latn\"] and x[\"sentence_nld_Latn\"]),\n",
    "    \"khk-eng\": dev_set.filter(lambda x: x[\"sentence_khk_Cyrl\"] and x[\"sentence_eng_Latn\"]),\n",
    "    \"eng-khk\": dev_set.filter(lambda x: x[\"sentence_eng_Latn\"] and x[\"sentence_khk_Cyrl\"]),\n",
    "}\n",
    "print(f\"Number of language pairs: {len(lang_pairs)}\")\n",
    "print(f\"Number of examples in each language pair: {[len(lang_pairs[lp]) for lp in lang_pairs]}\")"
   ]
  },
  {
   "cell_type": "code",
   "execution_count": 3,
   "id": "94e85a69",
   "metadata": {},
   "outputs": [
    {
     "name": "stderr",
     "output_type": "stream",
     "text": [
      "[nltk_data] Downloading package punkt to\n",
      "[nltk_data]     C:\\Users\\gerri\\AppData\\Roaming\\nltk_data...\n",
      "[nltk_data]   Package punkt is already up-to-date!\n",
      "[nltk_data] Downloading package punkt_tab to\n",
      "[nltk_data]     C:\\Users\\gerri\\AppData\\Roaming\\nltk_data...\n",
      "[nltk_data]   Package punkt_tab is already up-to-date!\n"
     ]
    }
   ],
   "source": [
    "# 3 BLEU and METEOR\n",
    "import sacrebleu\n",
    "\n",
    "def compute_bleu(predictions, references):\n",
    "    if isinstance(predictions, str):\n",
    "        predictions = [predictions]\n",
    "    if isinstance(references[0], str):\n",
    "        references = [[ref] for ref in references]\n",
    "\n",
    "    scores = []\n",
    "    for pred, ref in zip(predictions, references):\n",
    "        score = sacrebleu.sentence_bleu(pred, ref).score\n",
    "        scores.append(score)\n",
    "    return scores\n",
    "\n",
    "from nltk.translate.meteor_score import meteor_score\n",
    "from nltk.tokenize import word_tokenize\n",
    "import nltk\n",
    "\n",
    "nltk.download(\"punkt\")\n",
    "nltk.download(\"punkt_tab\")\n",
    "# nltk.download('wordnet')\n",
    "# nltk.download('omw-1.4')\n",
    "\n",
    "def compute_meteor(predictions, references):\n",
    "    if isinstance(predictions, str):\n",
    "        predictions = [predictions]\n",
    "    if isinstance(references, str):\n",
    "        references = [references]\n",
    "\n",
    "    scores = []\n",
    "    for pred, ref in zip(predictions, references):\n",
    "        score = meteor_score([word_tokenize(ref)], word_tokenize(pred))\n",
    "        scores.append(score)\n",
    "    return scores"
   ]
  },
  {
   "cell_type": "code",
   "execution_count": 4,
   "id": "df5d02a9",
   "metadata": {},
   "outputs": [
    {
     "data": {
      "application/vnd.jupyter.widget-view+json": {
       "model_id": "a20993c3dfa7495cb71d2c00b12712d5",
       "version_major": 2,
       "version_minor": 0
      },
      "text/plain": [
       "Fetching 5 files:   0%|          | 0/5 [00:00<?, ?it/s]"
      ]
     },
     "metadata": {},
     "output_type": "display_data"
    },
    {
     "name": "stderr",
     "output_type": "stream",
     "text": [
      "Lightning automatically upgraded your loaded checkpoint from v1.8.3.post1 to v2.5.1. To apply the upgrade to your files permanently, run `python -m pytorch_lightning.utilities.upgrade_checkpoint C:\\Users\\gerri\\.cache\\huggingface\\hub\\models--Unbabel--wmt22-comet-da\\snapshots\\2760a223ac957f30acfb18c8aa649b01cf1d75f2\\checkpoints\\model.ckpt`\n",
      "Encoder model frozen.\n",
      "C:\\Users\\gerri\\AppData\\Roaming\\Python\\Python312\\site-packages\\pytorch_lightning\\core\\saving.py:195: Found keys that are not in the model state dict but in the checkpoint: ['encoder.model.embeddings.position_ids']\n"
     ]
    },
    {
     "data": {
      "application/vnd.jupyter.widget-view+json": {
       "model_id": "0c4ca7005edc4a21b4dad2c798372c5c",
       "version_major": 2,
       "version_minor": 0
      },
      "text/plain": [
       "Fetching 5 files:   0%|          | 0/5 [00:00<?, ?it/s]"
      ]
     },
     "metadata": {},
     "output_type": "display_data"
    },
    {
     "name": "stderr",
     "output_type": "stream",
     "text": [
      "Lightning automatically upgraded your loaded checkpoint from v1.8.2 to v2.5.1. To apply the upgrade to your files permanently, run `python -m pytorch_lightning.utilities.upgrade_checkpoint C:\\Users\\gerri\\.cache\\huggingface\\hub\\models--Unbabel--wmt22-cometkiwi-da\\snapshots\\1ad785194e391eebc6c53e2d0776cada8f83179a\\checkpoints\\model.ckpt`\n",
      "Encoder model frozen.\n"
     ]
    }
   ],
   "source": [
    "# 4 COMET\n",
    "from comet import download_model, load_from_checkpoint\n",
    "\n",
    "# Reference-based COMET\n",
    "comet_ref_model_path = download_model(\"Unbabel/wmt22-comet-da\")\n",
    "comet_ref_model = load_from_checkpoint(comet_ref_model_path)\n",
    "\n",
    "# Reference-free COMET\n",
    "cometkiwi_model_path = download_model(\"Unbabel/wmt22-cometkiwi-da\")\n",
    "cometkiwi_model = load_from_checkpoint(cometkiwi_model_path)\n",
    "\n",
    "\n",
    "# Safety check\n",
    "if \"comet_ref_model\" not in globals():\n",
    "    comet_ref_model_path = download_model(\"Unbabel/wmt22-comet-da\")\n",
    "    comet_ref_model = load_from_checkpoint(comet_ref_model_path)\n",
    "\n",
    "if \"cometkiwi_model\" not in globals():\n",
    "    cometkiwi_model_path = download_model(\"Unbabel/wmt22-cometkiwi-da\")\n",
    "    cometkiwi_model = load_from_checkpoint(cometkiwi_model_path)\n",
    "\n",
    "# Compute COMET scores\n",
    "def compute_comet_ref(srcs, mts, refs):\n",
    "    try:\n",
    "        data = [{\"src\": s, \"mt\": m, \"ref\": r} for s, m, r in zip(srcs, mts, refs)]\n",
    "        score = comet_ref_model.predict(data, gpus=1 if torch.cuda.is_available() else 0)\n",
    "        return score.scores\n",
    "    except Exception as e:\n",
    "        print(f\"[COMET-REF ERROR] {e}\")\n",
    "        return [float(\"nan\")] * len(srcs)\n",
    "\n",
    "def compute_cometkiwi(srcs, mts):\n",
    "    try:\n",
    "        data = [{\"src\": s, \"mt\": m} for s, m in zip(srcs, mts)]\n",
    "        score = cometkiwi_model.predict(data, gpus=1 if torch.cuda.is_available() else 0)\n",
    "        return score.scores\n",
    "    except Exception as e:\n",
    "        print(f\"[COMET-KIWI ERROR] {e}\")\n",
    "        return [float(\"nan\")] * len(srcs)"
   ]
  },
  {
   "cell_type": "code",
   "execution_count": 5,
   "id": "cac68e29",
   "metadata": {},
   "outputs": [],
   "source": [
    "# 5 Results + getting translations\n",
    "def get_results_batched(examples, source_field, target_field, prompt_template, direction, results_list):\n",
    "    strategies = [\"greedy\"]\n",
    "\n",
    "    for strategy in strategies:\n",
    "        print(f\"\\n[Strategy: {strategy}]\")\n",
    "\n",
    "        prompts = []\n",
    "        sources = []\n",
    "        references = []\n",
    "\n",
    "        # Generate prompts and collect source/reference\n",
    "        for ex in examples:\n",
    "            source = ex[source_field]\n",
    "            reference = ex[target_field]\n",
    "            prompt = prompt_template.format(source=source)\n",
    "\n",
    "            prompts.append(prompt)\n",
    "            sources.append(source)\n",
    "            references.append(reference)\n",
    "\n",
    "        # Generate translations in batch + log probs + perplexities\n",
    "        translations = []\n",
    "        log_probs = []\n",
    "        perplexities = []\n",
    "        for prompt in tqdm(prompts, desc=f\"Translating ({strategy})\"):\n",
    "            try:\n",
    "                translation, log_prob, ppl = generate_translation(prompt, strategy)\n",
    "                translations.append(translation)\n",
    "                log_probs.append(log_prob)\n",
    "                perplexities.append(ppl)\n",
    "            except Exception as e:\n",
    "                print(f\"[ERROR] Strategy {strategy}: {e}\")\n",
    "                translations.append(\"\")\n",
    "                log_probs.append(float(\"nan\"))\n",
    "                perplexities.append(float(\"nan\"))\n",
    "\n",
    "        # Compute BLEU and METEOR in batch\n",
    "        bleu_scores = compute_bleu(translations, references)\n",
    "        meteor_scores = compute_meteor(translations, references)\n",
    "\n",
    "        # Compute COMET scores (aligned)\n",
    "        valid_indices = [i for i, t in enumerate(translations) if t.strip()]\n",
    "        comet_refs = [float(\"nan\")] * len(translations)\n",
    "        comet_wmt = [float(\"nan\")] * len(translations)\n",
    "\n",
    "        try:\n",
    "            valid_sources = [sources[i] for i in valid_indices]\n",
    "            valid_refs = [references[i] for i in valid_indices]\n",
    "            valid_trans = [translations[i] for i in valid_indices]\n",
    "\n",
    "            comet_ref_scores = compute_comet_ref(valid_sources, valid_trans, valid_refs)\n",
    "            comet_wmt_scores = compute_cometkiwi(valid_sources, valid_trans)\n",
    "\n",
    "            for j, idx in enumerate(valid_indices):\n",
    "                comet_refs[idx] = comet_ref_scores[j]\n",
    "                comet_wmt[idx] = comet_wmt_scores[j]\n",
    "        except Exception as e:\n",
    "            print(f\"[COMET ERROR] {e}\")\n",
    "\n",
    "        # Store results\n",
    "        for i in range(len(translations)):\n",
    "            results_list.append({\n",
    "                \"source\": sources[i],\n",
    "                \"reference\": references[i],\n",
    "                \"strategy\": strategy,\n",
    "                \"translation\": translations[i],\n",
    "                \"total_log_probs\": log_probs[i],\n",
    "                \"perplexity\": perplexities[i],\n",
    "                \"bleu\": bleu_scores[i],\n",
    "                \"meteor\": meteor_scores[i],\n",
    "                \"comet_ref\": comet_refs[i],\n",
    "                \"comet_wmt22\": comet_wmt[i]\n",
    "            })"
   ]
  },
  {
   "cell_type": "code",
   "execution_count": 6,
   "id": "f0d6777d",
   "metadata": {},
   "outputs": [],
   "source": [
    "# Destination results\n",
    "output_dir = \"csv_results_1b1\"\n",
    "os.makedirs(output_dir, exist_ok=True)"
   ]
  },
  {
   "cell_type": "code",
   "execution_count": null,
   "id": "d5a6a0e4",
   "metadata": {},
   "outputs": [
    {
     "name": "stdout",
     "output_type": "stream",
     "text": [
      "\n",
      "[Strategy: greedy]\n"
     ]
    },
    {
     "name": "stderr",
     "output_type": "stream",
     "text": [
      "Translating (greedy): 100%|██████████| 997/997 [16:29<00:00,  1.01it/s]\n",
      "You are using the plain ModelCheckpoint callback. Consider using LitModelCheckpoint which with seamless uploading to Model registry.\n",
      "GPU available: True (cuda), used: True\n",
      "TPU available: False, using: 0 TPU cores\n",
      "HPU available: False, using: 0 HPUs\n",
      "You are using a CUDA device ('NVIDIA GeForce RTX 4060 Laptop GPU') that has Tensor Cores. To properly utilize them, you should set `torch.set_float32_matmul_precision('medium' | 'high')` which will trade-off precision for performance. For more details, read https://pytorch.org/docs/stable/generated/torch.set_float32_matmul_precision.html#torch.set_float32_matmul_precision\n",
      "LOCAL_RANK: 0 - CUDA_VISIBLE_DEVICES: [0]\n",
      "Predicting DataLoader 0: 100%|██████████| 63/63 [00:11<00:00,  5.39it/s]\n",
      "You are using the plain ModelCheckpoint callback. Consider using LitModelCheckpoint which with seamless uploading to Model registry.\n",
      "GPU available: True (cuda), used: True\n",
      "TPU available: False, using: 0 TPU cores\n",
      "HPU available: False, using: 0 HPUs\n",
      "LOCAL_RANK: 0 - CUDA_VISIBLE_DEVICES: [0]\n",
      "Predicting DataLoader 0: 100%|██████████| 63/63 [00:07<00:00,  8.75it/s]\n"
     ]
    }
   ],
   "source": [
    "# zho to eng\n",
    "results_to_eng = []\n",
    "source_field = \"sentence_zho_Hans\"\n",
    "target_field = \"sentence_eng_Latn\"\n",
    "prompt_zh2en = \"\"\"Task: Translate the following Chinese text to English.\n",
    "\n",
    "Chinese text: {source}\n",
    "\n",
    "English translation:\"\"\".strip()\n",
    "\n",
    "get_results_batched(\n",
    "    examples=lang_pairs[\"zho-eng\"].select(range(len(lang_pairs[\"zho-eng\"]))),\n",
    "    source_field=source_field,\n",
    "    target_field=target_field,\n",
    "    prompt_template=prompt_zh2en,\n",
    "    direction=\"zho-eng\",\n",
    "    results_list=results_to_eng\n",
    ")"
   ]
  },
  {
   "cell_type": "code",
   "execution_count": null,
   "id": "fbf3f8ea",
   "metadata": {},
   "outputs": [
    {
     "name": "stdout",
     "output_type": "stream",
     "text": [
      "                                              source  \\\n",
      "0  周一，斯坦福大学医学院的科学家宣布，他们发明了一种可以将细胞按类型分类的新型诊断工具：一种可...   \n",
      "1  主要研究人员表示，这可以让低收入国家/地区的患者尽早发现癌症、肺结核、艾滋病和疟疾。在这些国...   \n",
      "2  当地时间上午 9:30 左右 (UTC 0230)，JAS 39C 鹰狮战斗机撞上跑道并发生...   \n",
      "3            涉事飞行员是空军中队长迪罗里·帕塔维 (Dilokrit Pattavee)。   \n",
      "4                           当地媒体报道，一辆机场消防车在响应火警时翻了车。   \n",
      "\n",
      "                                           reference strategy  \\\n",
      "0  On Monday, scientists from the Stanford Univer...   greedy   \n",
      "1  Lead researchers say this may bring early dete...   greedy   \n",
      "2  The JAS 39C Gripen crashed onto a runway at ar...   greedy   \n",
      "3  The pilot was identified as Squadron Leader Di...   greedy   \n",
      "4  Local media reports an airport fire vehicle ro...   greedy   \n",
      "\n",
      "                                         translation  total_log_probs  \\\n",
      "0  The Stanford University's scientists announced...       -33.562500   \n",
      "1  The researchers said that this will allow low-...       -33.718750   \n",
      "2  At about 9:30 a.m. (UTC 02:30), JAS 39C 鹰狮战斗机撞...       -16.234375   \n",
      "3  The pilot is the captain of the Air Force, Dil...        -6.199219   \n",
      "4  The local media reported that a fire truck was...       -10.796875   \n",
      "\n",
      "   perplexity       bleu    meteor  comet_ref  comet_wmt22  \n",
      "0    2.144238  15.386920  0.441381   0.794746     0.747096  \n",
      "1    1.990006  10.372999  0.536375   0.839015     0.837922  \n",
      "2    1.516289   6.468277  0.290404   0.788367     0.848605  \n",
      "3    1.385796  14.458925  0.433010   0.781079     0.793312  \n",
      "4    1.765187   3.234245  0.408889   0.818096     0.792833  \n"
     ]
    }
   ],
   "source": [
    "# Store in CSV\n",
    "results_to_eng_df = pd.DataFrame(results_to_eng)\n",
    "results_to_eng_df.to_csv(os.path.join(output_dir, \"zho-eng_bloomz-1b1_flores200_results.csv\"), index=False)\n",
    "print(results_to_eng_df.head())"
   ]
  },
  {
   "cell_type": "code",
   "execution_count": null,
   "id": "1c941a84",
   "metadata": {},
   "outputs": [
    {
     "name": "stdout",
     "output_type": "stream",
     "text": [
      "\n",
      "[Strategy: greedy]\n"
     ]
    },
    {
     "name": "stderr",
     "output_type": "stream",
     "text": [
      "Translating (greedy): 100%|██████████| 997/997 [17:18<00:00,  1.04s/it]\n",
      "You are using the plain ModelCheckpoint callback. Consider using LitModelCheckpoint which with seamless uploading to Model registry.\n",
      "GPU available: True (cuda), used: True\n",
      "TPU available: False, using: 0 TPU cores\n",
      "HPU available: False, using: 0 HPUs\n",
      "LOCAL_RANK: 0 - CUDA_VISIBLE_DEVICES: [0]\n",
      "Predicting DataLoader 0: 100%|██████████| 63/63 [00:12<00:00,  5.24it/s]\n",
      "You are using the plain ModelCheckpoint callback. Consider using LitModelCheckpoint which with seamless uploading to Model registry.\n",
      "GPU available: True (cuda), used: True\n",
      "TPU available: False, using: 0 TPU cores\n",
      "HPU available: False, using: 0 HPUs\n",
      "LOCAL_RANK: 0 - CUDA_VISIBLE_DEVICES: [0]\n",
      "Predicting DataLoader 0: 100%|██████████| 63/63 [00:07<00:00,  7.93it/s]\n"
     ]
    }
   ],
   "source": [
    "# fra to eng\n",
    "results_to_eng = []\n",
    "source_field = \"sentence_fra_Latn\"\n",
    "target_field = \"sentence_eng_Latn\"\n",
    "prompt_fr2en = \"\"\"Task: Translate the following French text to English.\n",
    "\n",
    "French text: {source}\n",
    "\n",
    "English translation:\"\"\".strip()\n",
    "\n",
    "get_results_batched(\n",
    "    examples=lang_pairs[\"fra-eng\"].select(range(len(lang_pairs[\"zho-eng\"]))),\n",
    "    source_field=source_field,\n",
    "    target_field=target_field,\n",
    "    prompt_template=prompt_fr2en,\n",
    "    direction=\"fra-eng\",\n",
    "    results_list=results_to_eng\n",
    ")"
   ]
  },
  {
   "cell_type": "code",
   "execution_count": null,
   "id": "17ce6d9c",
   "metadata": {},
   "outputs": [
    {
     "name": "stdout",
     "output_type": "stream",
     "text": [
      "                                              source  \\\n",
      "0  Des scientifiques de l’école de médecine de l’...   \n",
      "1  Selon les chercheurs principaux, cela pourrait...   \n",
      "2  Le JAS 39C Gripen s’est écrasé sur une piste a...   \n",
      "3  Le pilote a été identifié comme étant le chef ...   \n",
      "4  La presse locale a rapporté qu'un véhicule de ...   \n",
      "\n",
      "                                           reference strategy  \\\n",
      "0  On Monday, scientists from the Stanford Univer...   greedy   \n",
      "1  Lead researchers say this may bring early dete...   greedy   \n",
      "2  The JAS 39C Gripen crashed onto a runway at ar...   greedy   \n",
      "3  The pilot was identified as Squadron Leader Di...   greedy   \n",
      "4  Local media reports an airport fire vehicle ro...   greedy   \n",
      "\n",
      "                                         translation  total_log_probs  \\\n",
      "0  A group of Stanford scientists announced Monda...       -34.875000   \n",
      "1  According to the principal investigators, this...       -18.656250   \n",
      "2  The JAS 39C Gripen crashed on a runway around ...       -12.609375   \n",
      "3     The pilot was identified as Dilokrit Pattavee.        -2.023438   \n",
      "4  The local press reported that a fire truck was...       -11.382812   \n",
      "\n",
      "   perplexity       bleu    meteor  comet_ref  comet_wmt22  \n",
      "0    1.907576   9.033512  0.421774   0.806970     0.809066  \n",
      "1    1.528070  40.827932  0.653812   0.864812     0.858397  \n",
      "2    1.370581  50.526388  0.876794   0.914549     0.879640  \n",
      "3    1.155498  53.849524  0.809949   0.875813     0.717565  \n",
      "4    1.882082   9.782376  0.412186   0.774838     0.680066  \n"
     ]
    }
   ],
   "source": [
    "# Store in CSV\n",
    "results_to_eng_df = pd.DataFrame(results_to_eng)\n",
    "results_to_eng_df.to_csv(os.path.join(output_dir, \"fra-eng_bloomz-1b1_flores200_results.csv\"), index=False)\n",
    "print(results_to_eng_df.head())"
   ]
  },
  {
   "cell_type": "code",
   "execution_count": null,
   "id": "dc7f480b",
   "metadata": {},
   "outputs": [
    {
     "name": "stdout",
     "output_type": "stream",
     "text": [
      "\n",
      "[Strategy: greedy]\n"
     ]
    },
    {
     "name": "stderr",
     "output_type": "stream",
     "text": [
      "Translating (greedy): 100%|██████████| 997/997 [18:13<00:00,  1.10s/it]\n",
      "You are using the plain ModelCheckpoint callback. Consider using LitModelCheckpoint which with seamless uploading to Model registry.\n",
      "GPU available: True (cuda), used: True\n",
      "TPU available: False, using: 0 TPU cores\n",
      "HPU available: False, using: 0 HPUs\n",
      "You are using a CUDA device ('NVIDIA GeForce RTX 4060 Laptop GPU') that has Tensor Cores. To properly utilize them, you should set `torch.set_float32_matmul_precision('medium' | 'high')` which will trade-off precision for performance. For more details, read https://pytorch.org/docs/stable/generated/torch.set_float32_matmul_precision.html#torch.set_float32_matmul_precision\n",
      "LOCAL_RANK: 0 - CUDA_VISIBLE_DEVICES: [0]\n",
      "Predicting DataLoader 0: 100%|██████████| 63/63 [00:13<00:00,  4.67it/s]\n",
      "You are using the plain ModelCheckpoint callback. Consider using LitModelCheckpoint which with seamless uploading to Model registry.\n",
      "GPU available: True (cuda), used: True\n",
      "TPU available: False, using: 0 TPU cores\n",
      "HPU available: False, using: 0 HPUs\n",
      "LOCAL_RANK: 0 - CUDA_VISIBLE_DEVICES: [0]\n",
      "Predicting DataLoader 0: 100%|██████████| 63/63 [00:08<00:00,  7.02it/s]\n"
     ]
    }
   ],
   "source": [
    "# nld to eng\n",
    "results_to_eng = []\n",
    "source_field = \"sentence_nld_Latn\"\n",
    "target_field = \"sentence_eng_Latn\"\n",
    "prompt_nl2en = \"\"\"Task: Translate the following Dutch text to English.\n",
    "\n",
    "Dutch text: {source}\n",
    "\n",
    "English translation:\"\"\".strip()\n",
    "\n",
    "get_results_batched(\n",
    "    examples=lang_pairs[\"nld-eng\"].select(range(len(lang_pairs[\"zho-eng\"]))),\n",
    "    source_field=source_field,\n",
    "    target_field=target_field,\n",
    "    prompt_template=prompt_nl2en,\n",
    "    direction=\"nld-eng\",\n",
    "    results_list=results_to_eng\n",
    ")"
   ]
  },
  {
   "cell_type": "code",
   "execution_count": null,
   "id": "ac0ee44c",
   "metadata": {},
   "outputs": [
    {
     "name": "stdout",
     "output_type": "stream",
     "text": [
      "                                              source  \\\n",
      "0  Op maandag kondigden wetenschappers van de Sta...   \n",
      "1  Hoofdonderzoekers zeggen dat dit kan leiden to...   \n",
      "2  De JAS 39C Gripen stortte rond 09.30 uur lokal...   \n",
      "3  De piloot werd geïdentificeerd als majoor Dilo...   \n",
      "4  De lokale media meldt dat er tijdens een actie...   \n",
      "\n",
      "                                           reference strategy  \\\n",
      "0  On Monday, scientists from the Stanford Univer...   greedy   \n",
      "1  Lead researchers say this may bring early dete...   greedy   \n",
      "2  The JAS 39C Gripen crashed onto a runway at ar...   greedy   \n",
      "3  The pilot was identified as Squadron Leader Di...   greedy   \n",
      "4  Local media reports an airport fire vehicle ro...   greedy   \n",
      "\n",
      "                                         translation  total_log_probs  \\\n",
      "0  The following Dutch text is translated from St...       -40.875000   \n",
      "1  The Dutch are concerned about the possibility ...       -49.343750   \n",
      "2  The German JAS 39C Gripen is in the air at 09....       -28.343750   \n",
      "3  The pilot was ordered to be disarmed as Dilokr...       -15.289062   \n",
      "4  The local media reported that the driver of th...       -16.703125   \n",
      "\n",
      "   perplexity       bleu    meteor  comet_ref  comet_wmt22  \n",
      "0    2.531918  16.986352  0.489035   0.686488     0.561310  \n",
      "1    3.433547  20.143227  0.294196   0.657187     0.447087  \n",
      "2    2.197513  11.768351  0.434247   0.576638     0.572279  \n",
      "3    2.071039  14.458925  0.461146   0.704243     0.539090  \n",
      "4    2.671224   3.125191  0.304878   0.650894     0.484424  \n"
     ]
    }
   ],
   "source": [
    "# Store in CSV\n",
    "results_to_eng_df = pd.DataFrame(results_to_eng)\n",
    "results_to_eng_df.to_csv(os.path.join(output_dir, \"nld-eng_bloomz-1b1_flores200_results.csv\"), index=False)\n",
    "print(results_to_eng_df.head())"
   ]
  },
  {
   "cell_type": "code",
   "execution_count": 7,
   "id": "c225ef61",
   "metadata": {},
   "outputs": [
    {
     "name": "stdout",
     "output_type": "stream",
     "text": [
      "\n",
      "[Strategy: greedy]\n"
     ]
    },
    {
     "name": "stderr",
     "output_type": "stream",
     "text": [
      "Translating (greedy): 100%|██████████| 997/997 [16:11<00:00,  1.03it/s]\n",
      "You are using the plain ModelCheckpoint callback. Consider using LitModelCheckpoint which with seamless uploading to Model registry.\n",
      "GPU available: True (cuda), used: True\n",
      "TPU available: False, using: 0 TPU cores\n",
      "HPU available: False, using: 0 HPUs\n",
      "You are using a CUDA device ('NVIDIA GeForce RTX 4060 Laptop GPU') that has Tensor Cores. To properly utilize them, you should set `torch.set_float32_matmul_precision('medium' | 'high')` which will trade-off precision for performance. For more details, read https://pytorch.org/docs/stable/generated/torch.set_float32_matmul_precision.html#torch.set_float32_matmul_precision\n",
      "LOCAL_RANK: 0 - CUDA_VISIBLE_DEVICES: [0]\n",
      "Predicting DataLoader 0: 100%|██████████| 63/63 [00:14<00:00,  4.41it/s]\n",
      "You are using the plain ModelCheckpoint callback. Consider using LitModelCheckpoint which with seamless uploading to Model registry.\n",
      "GPU available: True (cuda), used: True\n",
      "TPU available: False, using: 0 TPU cores\n",
      "HPU available: False, using: 0 HPUs\n",
      "LOCAL_RANK: 0 - CUDA_VISIBLE_DEVICES: [0]\n",
      "Predicting DataLoader 0: 100%|██████████| 63/63 [00:09<00:00,  6.50it/s]\n"
     ]
    }
   ],
   "source": [
    "# khk to eng\n",
    "results_to_eng = []\n",
    "source_field = \"sentence_khk_Cyrl\"\n",
    "target_field = \"sentence_eng_Latn\"\n",
    "prompt_kh2en = \"\"\"Task: Translate the following Mongolian text to English.\n",
    "\n",
    "Mongolian text: {source}\n",
    "\n",
    "English translation:\"\"\".strip()\n",
    "\n",
    "get_results_batched(\n",
    "    examples=lang_pairs[\"khk-eng\"].select(range(len(lang_pairs[\"zho-eng\"]))),\n",
    "    source_field=source_field,\n",
    "    target_field=target_field,\n",
    "    prompt_template=prompt_kh2en,\n",
    "    direction=\"khk-eng\",\n",
    "    results_list=results_to_eng\n",
    ")"
   ]
  },
  {
   "cell_type": "code",
   "execution_count": 8,
   "id": "41d3c6fe",
   "metadata": {},
   "outputs": [
    {
     "name": "stdout",
     "output_type": "stream",
     "text": [
      "                                              source  \\\n",
      "0  Даваа гарагт Стэнфордын Их Сургуулийн Анагаахы...   \n",
      "1  Гол судлаачдын зүгээс энэ нь хөхний хорт хавда...   \n",
      "2  ЖАС 39Си Грипен нь орон нутгийн цагаар өглөөни...   \n",
      "3  Нисгэгч нь Эскадрилийн аххлагч Дилокрит Паттав...   \n",
      "4  Нисэх онгоцны буудлын галын машин өнхөрсөн тал...   \n",
      "\n",
      "                                           reference strategy  \\\n",
      "0  On Monday, scientists from the Stanford Univer...   greedy   \n",
      "1  Lead researchers say this may bring early dete...   greedy   \n",
      "2  The JAS 39C Gripen crashed onto a runway at ar...   greedy   \n",
      "3  The pilot was identified as Squadron Leader Di...   greedy   \n",
      "4  Local media reports an airport fire vehicle ro...   greedy   \n",
      "\n",
      "                                         translation  total_log_probs  \\\n",
      "0  The text is from the Mongolian translation of ...       -24.437500   \n",
      "1  The Mongolian text is the same as the English ...       -13.664062   \n",
      "2  The 39th Russian General Staff (G39) is in the...       -57.156250   \n",
      "3  Mongolian text: The text is not in the origina...       -17.046875   \n",
      "4  The Mongolian text is that the car was driven ...       -23.968750   \n",
      "\n",
      "   perplexity      bleu    meteor  comet_ref  comet_wmt22  \n",
      "0    4.605926  0.613575  0.081776   0.385398     0.461384  \n",
      "1    2.860744  0.353261  0.053908   0.390350     0.476891  \n",
      "2    5.371280  4.265552  0.189335   0.532954     0.457224  \n",
      "3    3.710988  4.027248  0.098039   0.386371     0.352172  \n",
      "4    4.095654  2.839839  0.040984   0.495774     0.424998  \n"
     ]
    }
   ],
   "source": [
    "# Store in CSV\n",
    "results_to_eng_df = pd.DataFrame(results_to_eng)\n",
    "results_to_eng_df.to_csv(os.path.join(output_dir, \"khk-eng_bloomz-1b1_flores200_results.csv\"), index=False)\n",
    "print(results_to_eng_df.head())"
   ]
  }
 ],
 "metadata": {
  "kernelspec": {
   "display_name": "base",
   "language": "python",
   "name": "python3"
  },
  "language_info": {
   "codemirror_mode": {
    "name": "ipython",
    "version": 3
   },
   "file_extension": ".py",
   "mimetype": "text/x-python",
   "name": "python",
   "nbconvert_exporter": "python",
   "pygments_lexer": "ipython3",
   "version": "3.12.7"
  }
 },
 "nbformat": 4,
 "nbformat_minor": 5
}

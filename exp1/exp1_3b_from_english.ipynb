{
 "cells": [
  {
   "cell_type": "code",
   "execution_count": 1,
   "id": "a49c5857",
   "metadata": {},
   "outputs": [
    {
     "name": "stderr",
     "output_type": "stream",
     "text": [
      "PyTorch version 2.6.0+cu126 available.\n"
     ]
    }
   ],
   "source": [
    "# 1 Setup\n",
    "import sys\n",
    "import os\n",
    "sys.path.append(os.path.abspath(\".\"))\n",
    "from model_3b import generate_translation\n",
    "\n",
    "import comet\n",
    "from tqdm import tqdm\n",
    "import pandas as pd\n",
    "from datasets import load_dataset\n",
    "from transformers import AutoTokenizer, AutoModelForCausalLM\n",
    "\n",
    "import torch\n",
    "import torch.nn.functional as F\n",
    "import math"
   ]
  },
  {
   "cell_type": "code",
   "execution_count": 2,
   "id": "40f7864b",
   "metadata": {},
   "outputs": [
    {
     "name": "stdout",
     "output_type": "stream",
     "text": [
      "Number of language pairs: 8\n",
      "Number of examples in each language pair: [997, 997, 997, 997, 997, 997, 997, 997]\n"
     ]
    }
   ],
   "source": [
    "# 2 Data\n",
    "dataset = load_dataset(\"Muennighoff/flores200\", \"all\", revision=\"refs/pr/7\", trust_remote_code=True)\n",
    "dev_set = dataset[\"dev\"]\n",
    "lang_pairs = {\n",
    "    \"zho-eng\": dev_set.filter(lambda x: x[\"sentence_zho_Hans\"] and x[\"sentence_eng_Latn\"]),\n",
    "    \"eng-zho\": dev_set.filter(lambda x: x[\"sentence_eng_Latn\"] and x[\"sentence_zho_Hans\"]),\n",
    "    \"fra-eng\": dev_set.filter(lambda x: x[\"sentence_fra_Latn\"] and x[\"sentence_eng_Latn\"]),\n",
    "    \"eng-fra\": dev_set.filter(lambda x: x[\"sentence_eng_Latn\"] and x[\"sentence_fra_Latn\"]),\n",
    "    \"nld-eng\": dev_set.filter(lambda x: x[\"sentence_nld_Latn\"] and x[\"sentence_eng_Latn\"]),\n",
    "    \"eng-nld\": dev_set.filter(lambda x: x[\"sentence_eng_Latn\"] and x[\"sentence_nld_Latn\"]),\n",
    "    \"khk-eng\": dev_set.filter(lambda x: x[\"sentence_khk_Cyrl\"] and x[\"sentence_eng_Latn\"]),\n",
    "    \"eng-khk\": dev_set.filter(lambda x: x[\"sentence_eng_Latn\"] and x[\"sentence_khk_Cyrl\"]),\n",
    "}\n",
    "print(f\"Number of language pairs: {len(lang_pairs)}\")\n",
    "print(f\"Number of examples in each language pair: {[len(lang_pairs[lp]) for lp in lang_pairs]}\")"
   ]
  },
  {
   "cell_type": "code",
   "execution_count": 3,
   "id": "94e85a69",
   "metadata": {},
   "outputs": [
    {
     "name": "stderr",
     "output_type": "stream",
     "text": [
      "[nltk_data] Downloading package punkt to\n",
      "[nltk_data]     C:\\Users\\gerri\\AppData\\Roaming\\nltk_data...\n",
      "[nltk_data]   Package punkt is already up-to-date!\n",
      "[nltk_data] Downloading package punkt_tab to\n",
      "[nltk_data]     C:\\Users\\gerri\\AppData\\Roaming\\nltk_data...\n",
      "[nltk_data]   Package punkt_tab is already up-to-date!\n"
     ]
    }
   ],
   "source": [
    "# 3 BLEU and METEOR\n",
    "import sacrebleu\n",
    "\n",
    "def compute_bleu(predictions, references):\n",
    "    if isinstance(predictions, str):\n",
    "        predictions = [predictions]\n",
    "    if isinstance(references[0], str):\n",
    "        references = [[ref] for ref in references]\n",
    "\n",
    "    scores = []\n",
    "    for pred, ref in zip(predictions, references):\n",
    "        score = sacrebleu.sentence_bleu(pred, ref).score\n",
    "        scores.append(score)\n",
    "    return scores\n",
    "\n",
    "from nltk.translate.meteor_score import meteor_score\n",
    "from nltk.tokenize import word_tokenize\n",
    "import nltk\n",
    "\n",
    "nltk.download(\"punkt\")\n",
    "nltk.download(\"punkt_tab\")\n",
    "# nltk.download('wordnet')\n",
    "# nltk.download('omw-1.4')\n",
    "\n",
    "def compute_meteor(predictions, references):\n",
    "    if isinstance(predictions, str):\n",
    "        predictions = [predictions]\n",
    "    if isinstance(references, str):\n",
    "        references = [references]\n",
    "\n",
    "    scores = []\n",
    "    for pred, ref in zip(predictions, references):\n",
    "        score = meteor_score([word_tokenize(ref)], word_tokenize(pred))\n",
    "        scores.append(score)\n",
    "    return scores"
   ]
  },
  {
   "cell_type": "code",
   "execution_count": 4,
   "id": "df5d02a9",
   "metadata": {},
   "outputs": [
    {
     "data": {
      "application/vnd.jupyter.widget-view+json": {
       "model_id": "f888d049ab464af18962e6713e80dd4a",
       "version_major": 2,
       "version_minor": 0
      },
      "text/plain": [
       "Fetching 5 files:   0%|          | 0/5 [00:00<?, ?it/s]"
      ]
     },
     "metadata": {},
     "output_type": "display_data"
    },
    {
     "name": "stderr",
     "output_type": "stream",
     "text": [
      "Lightning automatically upgraded your loaded checkpoint from v1.8.3.post1 to v2.5.1. To apply the upgrade to your files permanently, run `python -m pytorch_lightning.utilities.upgrade_checkpoint C:\\Users\\gerri\\.cache\\huggingface\\hub\\models--Unbabel--wmt22-comet-da\\snapshots\\2760a223ac957f30acfb18c8aa649b01cf1d75f2\\checkpoints\\model.ckpt`\n",
      "Encoder model frozen.\n",
      "C:\\Users\\gerri\\AppData\\Roaming\\Python\\Python312\\site-packages\\pytorch_lightning\\core\\saving.py:195: Found keys that are not in the model state dict but in the checkpoint: ['encoder.model.embeddings.position_ids']\n"
     ]
    },
    {
     "data": {
      "application/vnd.jupyter.widget-view+json": {
       "model_id": "2d7fbceebd76469f953528e0f4529662",
       "version_major": 2,
       "version_minor": 0
      },
      "text/plain": [
       "Fetching 5 files:   0%|          | 0/5 [00:00<?, ?it/s]"
      ]
     },
     "metadata": {},
     "output_type": "display_data"
    },
    {
     "name": "stderr",
     "output_type": "stream",
     "text": [
      "Lightning automatically upgraded your loaded checkpoint from v1.8.2 to v2.5.1. To apply the upgrade to your files permanently, run `python -m pytorch_lightning.utilities.upgrade_checkpoint C:\\Users\\gerri\\.cache\\huggingface\\hub\\models--Unbabel--wmt22-cometkiwi-da\\snapshots\\1ad785194e391eebc6c53e2d0776cada8f83179a\\checkpoints\\model.ckpt`\n",
      "Encoder model frozen.\n"
     ]
    }
   ],
   "source": [
    "# 4 COMET\n",
    "from comet import download_model, load_from_checkpoint\n",
    "\n",
    "# Reference-based COMET\n",
    "comet_ref_model_path = download_model(\"Unbabel/wmt22-comet-da\")\n",
    "comet_ref_model = load_from_checkpoint(comet_ref_model_path)\n",
    "\n",
    "# Reference-free COMET\n",
    "cometkiwi_model_path = download_model(\"Unbabel/wmt22-cometkiwi-da\")\n",
    "cometkiwi_model = load_from_checkpoint(cometkiwi_model_path)\n",
    "\n",
    "\n",
    "# Safety check\n",
    "if \"comet_ref_model\" not in globals():\n",
    "    comet_ref_model_path = download_model(\"Unbabel/wmt22-comet-da\")\n",
    "    comet_ref_model = load_from_checkpoint(comet_ref_model_path)\n",
    "\n",
    "if \"cometkiwi_model\" not in globals():\n",
    "    cometkiwi_model_path = download_model(\"Unbabel/wmt22-cometkiwi-da\")\n",
    "    cometkiwi_model = load_from_checkpoint(cometkiwi_model_path)\n",
    "\n",
    "# Compute COMET scores\n",
    "def compute_comet_ref(srcs, mts, refs):\n",
    "    try:\n",
    "        data = [{\"src\": s, \"mt\": m, \"ref\": r} for s, m, r in zip(srcs, mts, refs)]\n",
    "        score = comet_ref_model.predict(data, gpus=1 if torch.cuda.is_available() else 0)\n",
    "        return score.scores\n",
    "    except Exception as e:\n",
    "        print(f\"[COMET-REF ERROR] {e}\")\n",
    "        return [float(\"nan\")] * len(srcs)\n",
    "\n",
    "def compute_cometkiwi(srcs, mts):\n",
    "    try:\n",
    "        data = [{\"src\": s, \"mt\": m} for s, m in zip(srcs, mts)]\n",
    "        score = cometkiwi_model.predict(data, gpus=1 if torch.cuda.is_available() else 0)\n",
    "        return score.scores\n",
    "    except Exception as e:\n",
    "        print(f\"[COMET-KIWI ERROR] {e}\")\n",
    "        return [float(\"nan\")] * len(srcs)"
   ]
  },
  {
   "cell_type": "code",
   "execution_count": 5,
   "id": "cac68e29",
   "metadata": {},
   "outputs": [],
   "source": [
    "# 5 Results + getting translations\n",
    "def get_results_batched(examples, source_field, target_field, prompt_template, direction, results_list):\n",
    "    strategies = [\"greedy\"]\n",
    "\n",
    "    for strategy in strategies:\n",
    "        print(f\"\\n[Strategy: {strategy}]\")\n",
    "\n",
    "        prompts = []\n",
    "        sources = []\n",
    "        references = []\n",
    "\n",
    "        # Generate prompts and collect source/reference\n",
    "        for ex in examples:\n",
    "            source = ex[source_field]\n",
    "            reference = ex[target_field]\n",
    "            prompt = prompt_template.format(source=source)\n",
    "\n",
    "            prompts.append(prompt)\n",
    "            sources.append(source)\n",
    "            references.append(reference)\n",
    "\n",
    "        # Generate translations in batch + log probs + perplexities\n",
    "        translations = []\n",
    "        log_probs = []\n",
    "        perplexities = []\n",
    "        for prompt in tqdm(prompts, desc=f\"Translating ({strategy})\"):\n",
    "            try:\n",
    "                translation, log_prob, ppl = generate_translation(prompt, strategy)\n",
    "                translations.append(translation)\n",
    "                log_probs.append(log_prob)\n",
    "                perplexities.append(ppl)\n",
    "            except Exception as e:\n",
    "                print(f\"[ERROR] Strategy {strategy}: {e}\")\n",
    "                translations.append(\"\")\n",
    "                log_probs.append(float(\"nan\"))\n",
    "                perplexities.append(float(\"nan\"))\n",
    "\n",
    "        # Compute BLEU and METEOR in batch\n",
    "        bleu_scores = compute_bleu(translations, references)\n",
    "        meteor_scores = compute_meteor(translations, references)\n",
    "\n",
    "        # Compute COMET scores (aligned)\n",
    "        valid_indices = [i for i, t in enumerate(translations) if t.strip()]\n",
    "        comet_refs = [float(\"nan\")] * len(translations)\n",
    "        comet_wmt = [float(\"nan\")] * len(translations)\n",
    "\n",
    "        try:\n",
    "            valid_sources = [sources[i] for i in valid_indices]\n",
    "            valid_refs = [references[i] for i in valid_indices]\n",
    "            valid_trans = [translations[i] for i in valid_indices]\n",
    "\n",
    "            comet_ref_scores = compute_comet_ref(valid_sources, valid_trans, valid_refs)\n",
    "            comet_wmt_scores = compute_cometkiwi(valid_sources, valid_trans)\n",
    "\n",
    "            for j, idx in enumerate(valid_indices):\n",
    "                comet_refs[idx] = comet_ref_scores[j]\n",
    "                comet_wmt[idx] = comet_wmt_scores[j]\n",
    "        except Exception as e:\n",
    "            print(f\"[COMET ERROR] {e}\")\n",
    "\n",
    "        # Store results\n",
    "        for i in range(len(translations)):\n",
    "            results_list.append({\n",
    "                \"source\": sources[i],\n",
    "                \"reference\": references[i],\n",
    "                \"strategy\": strategy,\n",
    "                \"translation\": translations[i],\n",
    "                \"total_log_probs\": log_probs[i],\n",
    "                \"perplexity\": perplexities[i],\n",
    "                \"bleu\": bleu_scores[i],\n",
    "                \"meteor\": meteor_scores[i],\n",
    "                \"comet_ref\": comet_refs[i],\n",
    "                \"comet_wmt22\": comet_wmt[i]\n",
    "            })"
   ]
  },
  {
   "cell_type": "code",
   "execution_count": 6,
   "id": "e72e361f",
   "metadata": {},
   "outputs": [],
   "source": [
    "# Destination results\n",
    "output_dir = \"csv_results_3b\"\n",
    "os.makedirs(output_dir, exist_ok=True)"
   ]
  },
  {
   "cell_type": "code",
   "execution_count": null,
   "id": "a8b39526",
   "metadata": {},
   "outputs": [
    {
     "name": "stdout",
     "output_type": "stream",
     "text": [
      "\n",
      "[Strategy: greedy]\n"
     ]
    },
    {
     "name": "stderr",
     "output_type": "stream",
     "text": [
      "Translating (greedy): 100%|██████████| 997/997 [20:02<00:00,  1.21s/it]\n",
      "You are using the plain ModelCheckpoint callback. Consider using LitModelCheckpoint which with seamless uploading to Model registry.\n",
      "GPU available: True (cuda), used: True\n",
      "TPU available: False, using: 0 TPU cores\n",
      "HPU available: False, using: 0 HPUs\n",
      "You are using a CUDA device ('NVIDIA GeForce RTX 4060 Laptop GPU') that has Tensor Cores. To properly utilize them, you should set `torch.set_float32_matmul_precision('medium' | 'high')` which will trade-off precision for performance. For more details, read https://pytorch.org/docs/stable/generated/torch.set_float32_matmul_precision.html#torch.set_float32_matmul_precision\n",
      "LOCAL_RANK: 0 - CUDA_VISIBLE_DEVICES: [0]\n",
      "Predicting DataLoader 0: 100%|██████████| 63/63 [05:56<00:00,  5.65s/it]\n",
      "You are using the plain ModelCheckpoint callback. Consider using LitModelCheckpoint which with seamless uploading to Model registry.\n",
      "GPU available: True (cuda), used: True\n",
      "TPU available: False, using: 0 TPU cores\n",
      "HPU available: False, using: 0 HPUs\n",
      "LOCAL_RANK: 0 - CUDA_VISIBLE_DEVICES: [0]\n",
      "Predicting DataLoader 0: 100%|██████████| 63/63 [03:27<00:00,  3.29s/it]\n"
     ]
    }
   ],
   "source": [
    "# eng to zho\n",
    "results_to_zho = []\n",
    "source_field = \"sentence_eng_Latn\"\n",
    "target_field = \"sentence_zho_Hans\"\n",
    "prompt_en2zh = \"\"\"Task: Translate the following English text to Chinese.\n",
    "\n",
    "English text: {source}\n",
    "\n",
    "Chinese translation:\"\"\".strip()\n",
    "\n",
    "get_results_batched(\n",
    "    examples=lang_pairs[\"eng-zho\"].select(range(len(lang_pairs[\"zho-eng\"]))),\n",
    "    source_field=source_field,\n",
    "    target_field=target_field,\n",
    "    prompt_template=prompt_en2zh,\n",
    "    direction=\"eng-zho\",\n",
    "    results_list=results_to_zho\n",
    ")"
   ]
  },
  {
   "cell_type": "code",
   "execution_count": null,
   "id": "fbf3f8ea",
   "metadata": {},
   "outputs": [
    {
     "name": "stdout",
     "output_type": "stream",
     "text": [
      "                                              source  \\\n",
      "0  On Monday, scientists from the Stanford Univer...   \n",
      "1  Lead researchers say this may bring early dete...   \n",
      "2  The JAS 39C Gripen crashed onto a runway at ar...   \n",
      "3  The pilot was identified as Squadron Leader Di...   \n",
      "4  Local media reports an airport fire vehicle ro...   \n",
      "\n",
      "                                           reference strategy  \\\n",
      "0  周一，斯坦福大学医学院的科学家宣布，他们发明了一种可以将细胞按类型分类的新型诊断工具：一种可...   greedy   \n",
      "1  主要研究人员表示，这可以让低收入国家/地区的患者尽早发现癌症、肺结核、艾滋病和疟疾。在这些国...   greedy   \n",
      "2  当地时间上午 9:30 左右 (UTC 0230)，JAS 39C 鹰狮战斗机撞上跑道并发生...   greedy   \n",
      "3            涉事飞行员是空军中队长迪罗里·帕塔维 (Dilokrit Pattavee)。   greedy   \n",
      "4                           当地媒体报道，一辆机场消防车在响应火警时翻了车。   greedy   \n",
      "\n",
      "                                         translation  total_log_probs  \\\n",
      "0  星期一，斯坦福大学医学院的科学家宣布发明了一种新的诊断工具，可以将细胞按类型分类：一种小巧的...       -23.421875   \n",
      "1  主要研究人员表示，这可能为低收入国家患者提供早期诊断癌症、肺结核、艾滋病和疟疾。在这些国家，...        -9.578125   \n",
      "2  JAS 39C Gripen 上午約9時30分（UTC 0230）於當地時間墜毀，並爆炸，導...       -18.843750   \n",
      "3                                  駕駛員的身分確認是空軍少校帕塔維。        -5.035156   \n",
      "4                           当地媒体报道，一辆机场消防车在响应火警时翻了车。        -6.187500   \n",
      "\n",
      "   perplexity        bleu    meteor  comet_ref  comet_wmt22  \n",
      "0    1.663912    0.000000  0.000000   0.865292     0.833211  \n",
      "1    1.295463    0.000000  0.000000   0.891082     0.866243  \n",
      "2    1.801946    2.634192  0.052632   0.852164     0.782606  \n",
      "3    1.432834    0.000000  0.000000   0.717882     0.808695  \n",
      "4    1.384941  100.000000  0.500000   0.962839     0.857341  \n"
     ]
    }
   ],
   "source": [
    "# Store in CSV\n",
    "results_to_zho_df = pd.DataFrame(results_to_zho)\n",
    "results_to_zho_df.to_csv(os.path.join(output_dir, \"eng-zho_bloomz-3b_flores200_results.csv\"), index=False)\n",
    "print(results_to_zho_df.head())"
   ]
  },
  {
   "cell_type": "code",
   "execution_count": null,
   "id": "d9d84746",
   "metadata": {},
   "outputs": [
    {
     "name": "stdout",
     "output_type": "stream",
     "text": [
      "\n",
      "[Strategy: greedy]\n"
     ]
    },
    {
     "name": "stderr",
     "output_type": "stream",
     "text": [
      "Translating (greedy): 100%|██████████| 997/997 [23:57<00:00,  1.44s/it]\n",
      "You are using the plain ModelCheckpoint callback. Consider using LitModelCheckpoint which with seamless uploading to Model registry.\n",
      "GPU available: True (cuda), used: True\n",
      "TPU available: False, using: 0 TPU cores\n",
      "HPU available: False, using: 0 HPUs\n",
      "LOCAL_RANK: 0 - CUDA_VISIBLE_DEVICES: [0]\n",
      "Predicting DataLoader 0: 100%|██████████| 63/63 [06:00<00:00,  5.72s/it]\n",
      "You are using the plain ModelCheckpoint callback. Consider using LitModelCheckpoint which with seamless uploading to Model registry.\n",
      "GPU available: True (cuda), used: True\n",
      "TPU available: False, using: 0 TPU cores\n",
      "HPU available: False, using: 0 HPUs\n",
      "LOCAL_RANK: 0 - CUDA_VISIBLE_DEVICES: [0]\n",
      "Predicting DataLoader 0: 100%|██████████| 63/63 [03:35<00:00,  3.43s/it]\n"
     ]
    }
   ],
   "source": [
    "# eng to fra\n",
    "results_to_fra = []\n",
    "source_field = \"sentence_eng_Latn\"\n",
    "target_field = \"sentence_fra_Latn\"\n",
    "prompt_en2fr = \"\"\"Task: Translate the following English text to French.\n",
    "\n",
    "English text: {source}\n",
    "\n",
    "French translation:\"\"\".strip()\n",
    "\n",
    "get_results_batched(\n",
    "    examples=lang_pairs[\"eng-fra\"].select(range(len(lang_pairs[\"zho-eng\"]))),\n",
    "    source_field=source_field,\n",
    "    target_field=target_field,\n",
    "    prompt_template=prompt_en2fr,\n",
    "    direction=\"eng-fra\",\n",
    "    results_list=results_to_fra\n",
    ")"
   ]
  },
  {
   "cell_type": "code",
   "execution_count": null,
   "id": "f4e3c0a9",
   "metadata": {},
   "outputs": [
    {
     "name": "stdout",
     "output_type": "stream",
     "text": [
      "                                              source  \\\n",
      "0  On Monday, scientists from the Stanford Univer...   \n",
      "1  Lead researchers say this may bring early dete...   \n",
      "2  The JAS 39C Gripen crashed onto a runway at ar...   \n",
      "3  The pilot was identified as Squadron Leader Di...   \n",
      "4  Local media reports an airport fire vehicle ro...   \n",
      "\n",
      "                                           reference strategy  \\\n",
      "0  Des scientifiques de l’école de médecine de l’...   greedy   \n",
      "1  Selon les chercheurs principaux, cela pourrait...   greedy   \n",
      "2  Le JAS 39C Gripen s’est écrasé sur une piste a...   greedy   \n",
      "3  Le pilote a été identifié comme étant le chef ...   greedy   \n",
      "4  La presse locale a rapporté qu'un véhicule de ...   greedy   \n",
      "\n",
      "                                         translation  total_log_probs  \\\n",
      "0  Le lundi, les scientifiques de la faculté de m...       -26.156250   \n",
      "1  Les chercheurs ont déclaré que cela pourrait p...       -20.343750   \n",
      "2  Le JAS 39C Gripen s'est écrasé sur une piste à...       -10.000000   \n",
      "3  Le pilote a été identifié comme étant le chef ...        -3.355469   \n",
      "4  Les médias locaux rapportent qu'un véhicule de...        -8.023438   \n",
      "\n",
      "   perplexity       bleu    meteor  comet_ref  comet_wmt22  \n",
      "0    1.557881  26.830772  0.529773   0.813471     0.840271  \n",
      "1    1.467917  20.390355  0.563930   0.801284     0.651228  \n",
      "2    1.268830  50.949413  0.673722   0.917039     0.886484  \n",
      "3    1.182669  76.116060  0.808934   0.958339     0.877269  \n",
      "4    1.396976  34.870955  0.472010   0.744011     0.857586  \n"
     ]
    }
   ],
   "source": [
    "# Store in CSV\n",
    "results_to_fra_df = pd.DataFrame(results_to_fra)\n",
    "results_to_fra_df.to_csv(os.path.join(output_dir, \"eng-fra_bloomz-3b_flores200_results.csv\"), index=False)\n",
    "print(results_to_fra_df.head())"
   ]
  },
  {
   "cell_type": "code",
   "execution_count": null,
   "id": "3f730f7c",
   "metadata": {},
   "outputs": [
    {
     "name": "stdout",
     "output_type": "stream",
     "text": [
      "\n",
      "[Strategy: greedy]\n"
     ]
    },
    {
     "name": "stderr",
     "output_type": "stream",
     "text": [
      "Translating (greedy): 100%|██████████| 997/997 [39:57<00:00,  2.40s/it] \n",
      "You are using the plain ModelCheckpoint callback. Consider using LitModelCheckpoint which with seamless uploading to Model registry.\n",
      "GPU available: True (cuda), used: True\n",
      "TPU available: False, using: 0 TPU cores\n",
      "HPU available: False, using: 0 HPUs\n",
      "You are using a CUDA device ('NVIDIA GeForce RTX 4060 Laptop GPU') that has Tensor Cores. To properly utilize them, you should set `torch.set_float32_matmul_precision('medium' | 'high')` which will trade-off precision for performance. For more details, read https://pytorch.org/docs/stable/generated/torch.set_float32_matmul_precision.html#torch.set_float32_matmul_precision\n",
      "LOCAL_RANK: 0 - CUDA_VISIBLE_DEVICES: [0]\n",
      "Predicting DataLoader 0: 100%|██████████| 63/63 [07:22<00:00,  7.02s/it]\n",
      "You are using the plain ModelCheckpoint callback. Consider using LitModelCheckpoint which with seamless uploading to Model registry.\n",
      "GPU available: True (cuda), used: True\n",
      "TPU available: False, using: 0 TPU cores\n",
      "HPU available: False, using: 0 HPUs\n",
      "LOCAL_RANK: 0 - CUDA_VISIBLE_DEVICES: [0]\n",
      "Predicting DataLoader 0: 100%|██████████| 63/63 [04:35<00:00,  4.38s/it]\n"
     ]
    }
   ],
   "source": [
    "# eng to nld\n",
    "results_to_nld = []\n",
    "source_field = \"sentence_eng_Latn\"\n",
    "target_field = \"sentence_nld_Latn\"\n",
    "prompt_en2nl = \"\"\"Task: Translate the following English text to Dutch.\n",
    "\n",
    "English text: {source}\n",
    "\n",
    "Dutch translation:\"\"\".strip()\n",
    "\n",
    "get_results_batched(\n",
    "    examples=lang_pairs[\"eng-nld\"].select(range(len(lang_pairs[\"zho-eng\"]))),\n",
    "    source_field=source_field,\n",
    "    target_field=target_field,\n",
    "    prompt_template=prompt_en2nl,\n",
    "    direction=\"eng-nld\",\n",
    "    results_list=results_to_nld\n",
    ")"
   ]
  },
  {
   "cell_type": "code",
   "execution_count": null,
   "id": "910436e8",
   "metadata": {},
   "outputs": [
    {
     "name": "stdout",
     "output_type": "stream",
     "text": [
      "                                              source  \\\n",
      "0  On Monday, scientists from the Stanford Univer...   \n",
      "1  Lead researchers say this may bring early dete...   \n",
      "2  The JAS 39C Gripen crashed onto a runway at ar...   \n",
      "3  The pilot was identified as Squadron Leader Di...   \n",
      "4  Local media reports an airport fire vehicle ro...   \n",
      "\n",
      "                                           reference strategy  \\\n",
      "0  Op maandag kondigden wetenschappers van de Sta...   greedy   \n",
      "1  Hoofdonderzoekers zeggen dat dit kan leiden to...   greedy   \n",
      "2  De JAS 39C Gripen stortte rond 09.30 uur lokal...   greedy   \n",
      "3  De piloot werd geïdentificeerd als majoor Dilo...   greedy   \n",
      "4  De lokale media meldt dat er tijdens een actie...   greedy   \n",
      "\n",
      "                                         translation  total_log_probs  \\\n",
      "0  Monday, scientists from the Stanford Universit...        -7.714844   \n",
      "1  Lead researchers say this may bring early dete...        -4.718750   \n",
      "2  JAS 39C Gripen crash landed at around 9:30 am ...        -9.578125   \n",
      "3                           Pilot: Dilokrit Pattavee        -3.091797   \n",
      "4  Local media reports an airport fire vehicle ro...        -3.421875   \n",
      "\n",
      "   perplexity      bleu    meteor  comet_ref  comet_wmt22  \n",
      "0    1.163312  8.076780  0.141620   0.665160     0.232833  \n",
      "1    1.110556  2.358471  0.073350   0.708409     0.205147  \n",
      "2    1.348936  6.322958  0.215150   0.669324     0.294414  \n",
      "3    1.362307  9.153013  0.220588   0.679300     0.397292  \n",
      "4    1.301114  2.654926  0.060606   0.555942     0.242733  \n"
     ]
    }
   ],
   "source": [
    "# Store in CSV\n",
    "results_to_nld_df = pd.DataFrame(results_to_nld)\n",
    "results_to_nld_df.to_csv(os.path.join(output_dir, \"eng-nld_bloomz-3b_flores200_results.csv\"), index=False)\n",
    "print(results_to_nld_df.head())"
   ]
  },
  {
   "cell_type": "code",
   "execution_count": 8,
   "id": "9a57c369",
   "metadata": {},
   "outputs": [
    {
     "name": "stdout",
     "output_type": "stream",
     "text": [
      "\n",
      "[Strategy: greedy]\n"
     ]
    },
    {
     "name": "stderr",
     "output_type": "stream",
     "text": [
      "Translating (greedy): 100%|██████████| 997/997 [38:03<00:00,  2.29s/it] \n",
      "You are using the plain ModelCheckpoint callback. Consider using LitModelCheckpoint which with seamless uploading to Model registry.\n",
      "GPU available: True (cuda), used: True\n",
      "TPU available: False, using: 0 TPU cores\n",
      "HPU available: False, using: 0 HPUs\n",
      "You are using a CUDA device ('NVIDIA GeForce RTX 4060 Laptop GPU') that has Tensor Cores. To properly utilize them, you should set `torch.set_float32_matmul_precision('medium' | 'high')` which will trade-off precision for performance. For more details, read https://pytorch.org/docs/stable/generated/torch.set_float32_matmul_precision.html#torch.set_float32_matmul_precision\n",
      "LOCAL_RANK: 0 - CUDA_VISIBLE_DEVICES: [0]\n",
      "Predicting DataLoader 0: 100%|██████████| 63/63 [09:15<00:00,  8.82s/it]\n",
      "You are using the plain ModelCheckpoint callback. Consider using LitModelCheckpoint which with seamless uploading to Model registry.\n",
      "GPU available: True (cuda), used: True\n",
      "TPU available: False, using: 0 TPU cores\n",
      "HPU available: False, using: 0 HPUs\n",
      "LOCAL_RANK: 0 - CUDA_VISIBLE_DEVICES: [0]\n",
      "Predicting DataLoader 0: 100%|██████████| 63/63 [06:38<00:00,  6.32s/it]\n"
     ]
    }
   ],
   "source": [
    "# eng to khk\n",
    "results_to_khk = []\n",
    "source_field = \"sentence_eng_Latn\"\n",
    "target_field = \"sentence_khk_Cyrl\"\n",
    "prompt_en2kh = \"\"\"Task: Translate the following English text to Mongolian.\n",
    "\n",
    "English text: {source}\n",
    "\n",
    "Mongolian translation:\"\"\".strip()\n",
    "\n",
    "get_results_batched(\n",
    "    examples=lang_pairs[\"eng-khk\"].select(range(len(lang_pairs[\"zho-eng\"]))),\n",
    "    source_field=source_field,\n",
    "    target_field=target_field,\n",
    "    prompt_template=prompt_en2kh,\n",
    "    direction=\"eng-khk\",\n",
    "    results_list=results_to_khk\n",
    ")"
   ]
  },
  {
   "cell_type": "code",
   "execution_count": 9,
   "id": "637b6ba8",
   "metadata": {},
   "outputs": [
    {
     "name": "stdout",
     "output_type": "stream",
     "text": [
      "                                              source  \\\n",
      "0  On Monday, scientists from the Stanford Univer...   \n",
      "1  Lead researchers say this may bring early dete...   \n",
      "2  The JAS 39C Gripen crashed onto a runway at ar...   \n",
      "3  The pilot was identified as Squadron Leader Di...   \n",
      "4  Local media reports an airport fire vehicle ro...   \n",
      "\n",
      "                                           reference strategy  \\\n",
      "0  Даваа гарагт Стэнфордын Их Сургуулийн Анагаахы...   greedy   \n",
      "1  Гол судлаачдын зүгээс энэ нь хөхний хорт хавда...   greedy   \n",
      "2  ЖАС 39Си Грипен нь орон нутгийн цагаар өглөөни...   greedy   \n",
      "3  Нисгэгч нь Эскадрилийн аххлагч Дилокрит Паттав...   greedy   \n",
      "4  Нисэх онгоцны буудлын галын машин өнхөрсөн тал...   greedy   \n",
      "\n",
      "                                         translation  total_log_probs  \\\n",
      "0  Tugba: Tugba: Tugba: Tugba: Tugba: Tugba: Tugb...       -24.218750   \n",
      "1  Mongolian translation: Lead researchers say th...       -10.250000   \n",
      "2  JAS 39C Gripen crash at around 9:30 am local t...       -10.265625   \n",
      "3  Pilots Dilokrit Pattavee and Dilokrit Pattavee...       -11.429688   \n",
      "4  Mongolian media reports an airport fire vehicl...        -6.699219   \n",
      "\n",
      "   perplexity      bleu    meteor  comet_ref  comet_wmt22  \n",
      "0    1.274033  0.729170  0.011933   0.214325     0.226377  \n",
      "1    1.232671  1.095835  0.034169   0.359345     0.203857  \n",
      "2    1.408024  1.779016  0.078125   0.404884     0.283183  \n",
      "3    1.723351  4.767707  0.055556   0.274373     0.260970  \n",
      "4    1.613677  3.386499  0.041667   0.349654     0.250866  \n"
     ]
    }
   ],
   "source": [
    "# insight results\n",
    "results_to_khk_df = pd.DataFrame(results_to_khk)\n",
    "\n",
    "# Save to separate CSV files\n",
    "results_to_khk_df.to_csv(os.path.join(output_dir, \"eng-khk_bloomz-3b_flores200_results.csv\"), index=False)\n",
    "print(results_to_khk_df.head())"
   ]
  }
 ],
 "metadata": {
  "kernelspec": {
   "display_name": "base",
   "language": "python",
   "name": "python3"
  },
  "language_info": {
   "codemirror_mode": {
    "name": "ipython",
    "version": 3
   },
   "file_extension": ".py",
   "mimetype": "text/x-python",
   "name": "python",
   "nbconvert_exporter": "python",
   "pygments_lexer": "ipython3",
   "version": "3.12.7"
  }
 },
 "nbformat": 4,
 "nbformat_minor": 5
}

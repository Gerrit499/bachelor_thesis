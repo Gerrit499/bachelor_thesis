{
 "cells": [
  {
   "cell_type": "code",
   "execution_count": null,
   "id": "a49c5857",
   "metadata": {},
   "outputs": [
    {
     "name": "stderr",
     "output_type": "stream",
     "text": [
      "PyTorch version 2.6.0+cu126 available.\n"
     ]
    }
   ],
   "source": [
    "# 1 Setup\n",
    "import sys\n",
    "import os\n",
    "sys.path.append(os.path.abspath(\".\"))\n",
    "from model_3b import generate_translation\n",
    "\n",
    "import comet\n",
    "from tqdm import tqdm\n",
    "import pandas as pd\n",
    "from datasets import load_dataset\n",
    "from transformers import AutoTokenizer, AutoModelForCausalLM\n",
    "\n",
    "import torch\n",
    "import torch.nn.functional as F\n",
    "import math"
   ]
  },
  {
   "cell_type": "code",
   "execution_count": null,
   "id": "40f7864b",
   "metadata": {},
   "outputs": [
    {
     "name": "stdout",
     "output_type": "stream",
     "text": [
      "Number of language pairs: 8\n",
      "Number of examples in each language pair: [997, 997, 997, 997, 997, 997, 997, 997]\n"
     ]
    }
   ],
   "source": [
    "# 2 Data\n",
    "dataset = load_dataset(\"Muennighoff/flores200\", \"all\", revision=\"refs/pr/7\", trust_remote_code=True)\n",
    "dev_set = dataset[\"dev\"]\n",
    "lang_pairs = {\n",
    "    \"zho-eng\": dev_set.filter(lambda x: x[\"sentence_zho_Hans\"] and x[\"sentence_eng_Latn\"]),\n",
    "    \"eng-zho\": dev_set.filter(lambda x: x[\"sentence_eng_Latn\"] and x[\"sentence_zho_Hans\"]),\n",
    "    \"fra-eng\": dev_set.filter(lambda x: x[\"sentence_fra_Latn\"] and x[\"sentence_eng_Latn\"]),\n",
    "    \"eng-fra\": dev_set.filter(lambda x: x[\"sentence_eng_Latn\"] and x[\"sentence_fra_Latn\"]),\n",
    "    \"nld-eng\": dev_set.filter(lambda x: x[\"sentence_nld_Latn\"] and x[\"sentence_eng_Latn\"]),\n",
    "    \"eng-nld\": dev_set.filter(lambda x: x[\"sentence_eng_Latn\"] and x[\"sentence_nld_Latn\"]),\n",
    "    \"khk-eng\": dev_set.filter(lambda x: x[\"sentence_khk_Cyrl\"] and x[\"sentence_eng_Latn\"]),\n",
    "    \"eng-khk\": dev_set.filter(lambda x: x[\"sentence_eng_Latn\"] and x[\"sentence_khk_Cyrl\"]),\n",
    "}\n",
    "print(f\"Number of language pairs: {len(lang_pairs)}\")\n",
    "print(f\"Number of examples in each language pair: {[len(lang_pairs[lp]) for lp in lang_pairs]}\")"
   ]
  },
  {
   "cell_type": "code",
   "execution_count": null,
   "id": "94e85a69",
   "metadata": {},
   "outputs": [
    {
     "name": "stderr",
     "output_type": "stream",
     "text": [
      "[nltk_data] Downloading package punkt to\n",
      "[nltk_data]     C:\\Users\\gerri\\AppData\\Roaming\\nltk_data...\n",
      "[nltk_data]   Package punkt is already up-to-date!\n",
      "[nltk_data] Downloading package punkt_tab to\n",
      "[nltk_data]     C:\\Users\\gerri\\AppData\\Roaming\\nltk_data...\n",
      "[nltk_data]   Package punkt_tab is already up-to-date!\n"
     ]
    }
   ],
   "source": [
    "# 3 BLEU and METEOR\n",
    "import sacrebleu\n",
    "\n",
    "def compute_bleu(predictions, references):\n",
    "    if isinstance(predictions, str):\n",
    "        predictions = [predictions]\n",
    "    if isinstance(references[0], str):\n",
    "        references = [[ref] for ref in references]\n",
    "\n",
    "    scores = []\n",
    "    for pred, ref in zip(predictions, references):\n",
    "        score = sacrebleu.sentence_bleu(pred, ref).score\n",
    "        scores.append(score)\n",
    "    return scores\n",
    "\n",
    "from nltk.translate.meteor_score import meteor_score\n",
    "from nltk.tokenize import word_tokenize\n",
    "import nltk\n",
    "\n",
    "nltk.download(\"punkt\")\n",
    "nltk.download(\"punkt_tab\")\n",
    "# nltk.download('wordnet')\n",
    "# nltk.download('omw-1.4')\n",
    "\n",
    "def compute_meteor(predictions, references):\n",
    "    if isinstance(predictions, str):\n",
    "        predictions = [predictions]\n",
    "    if isinstance(references, str):\n",
    "        references = [references]\n",
    "\n",
    "    scores = []\n",
    "    for pred, ref in zip(predictions, references):\n",
    "        score = meteor_score([word_tokenize(ref)], word_tokenize(pred))\n",
    "        scores.append(score)\n",
    "    return scores"
   ]
  },
  {
   "cell_type": "code",
   "execution_count": null,
   "id": "df5d02a9",
   "metadata": {},
   "outputs": [
    {
     "data": {
      "application/vnd.jupyter.widget-view+json": {
       "model_id": "3758bfc9aac74ad7b3c7ce48371c15de",
       "version_major": 2,
       "version_minor": 0
      },
      "text/plain": [
       "Fetching 5 files:   0%|          | 0/5 [00:00<?, ?it/s]"
      ]
     },
     "metadata": {},
     "output_type": "display_data"
    },
    {
     "name": "stderr",
     "output_type": "stream",
     "text": [
      "Lightning automatically upgraded your loaded checkpoint from v1.8.3.post1 to v2.5.1. To apply the upgrade to your files permanently, run `python -m pytorch_lightning.utilities.upgrade_checkpoint C:\\Users\\gerri\\.cache\\huggingface\\hub\\models--Unbabel--wmt22-comet-da\\snapshots\\2760a223ac957f30acfb18c8aa649b01cf1d75f2\\checkpoints\\model.ckpt`\n",
      "Encoder model frozen.\n",
      "C:\\Users\\gerri\\AppData\\Roaming\\Python\\Python312\\site-packages\\pytorch_lightning\\core\\saving.py:195: Found keys that are not in the model state dict but in the checkpoint: ['encoder.model.embeddings.position_ids']\n"
     ]
    },
    {
     "data": {
      "application/vnd.jupyter.widget-view+json": {
       "model_id": "39332541b5774217a916291a219556e9",
       "version_major": 2,
       "version_minor": 0
      },
      "text/plain": [
       "Fetching 5 files:   0%|          | 0/5 [00:00<?, ?it/s]"
      ]
     },
     "metadata": {},
     "output_type": "display_data"
    },
    {
     "name": "stderr",
     "output_type": "stream",
     "text": [
      "Lightning automatically upgraded your loaded checkpoint from v1.8.2 to v2.5.1. To apply the upgrade to your files permanently, run `python -m pytorch_lightning.utilities.upgrade_checkpoint C:\\Users\\gerri\\.cache\\huggingface\\hub\\models--Unbabel--wmt22-cometkiwi-da\\snapshots\\1ad785194e391eebc6c53e2d0776cada8f83179a\\checkpoints\\model.ckpt`\n",
      "Encoder model frozen.\n"
     ]
    }
   ],
   "source": [
    "# 4 COMET\n",
    "from comet import download_model, load_from_checkpoint\n",
    "\n",
    "# Reference-based COMET\n",
    "comet_ref_model_path = download_model(\"Unbabel/wmt22-comet-da\")\n",
    "comet_ref_model = load_from_checkpoint(comet_ref_model_path)\n",
    "\n",
    "# Reference-free COMET\n",
    "cometkiwi_model_path = download_model(\"Unbabel/wmt22-cometkiwi-da\")\n",
    "cometkiwi_model = load_from_checkpoint(cometkiwi_model_path)\n",
    "\n",
    "\n",
    "# Safety check\n",
    "if \"comet_ref_model\" not in globals():\n",
    "    comet_ref_model_path = download_model(\"Unbabel/wmt22-comet-da\")\n",
    "    comet_ref_model = load_from_checkpoint(comet_ref_model_path)\n",
    "\n",
    "if \"cometkiwi_model\" not in globals():\n",
    "    cometkiwi_model_path = download_model(\"Unbabel/wmt22-cometkiwi-da\")\n",
    "    cometkiwi_model = load_from_checkpoint(cometkiwi_model_path)\n",
    "\n",
    "# Compute COMET scores\n",
    "def compute_comet_ref(srcs, mts, refs):\n",
    "    try:\n",
    "        data = [{\"src\": s, \"mt\": m, \"ref\": r} for s, m, r in zip(srcs, mts, refs)]\n",
    "        score = comet_ref_model.predict(data, gpus=1 if torch.cuda.is_available() else 0)\n",
    "        return score.scores\n",
    "    except Exception as e:\n",
    "        print(f\"[COMET-REF ERROR] {e}\")\n",
    "        return [float(\"nan\")] * len(srcs)\n",
    "\n",
    "def compute_cometkiwi(srcs, mts):\n",
    "    try:\n",
    "        data = [{\"src\": s, \"mt\": m} for s, m in zip(srcs, mts)]\n",
    "        score = cometkiwi_model.predict(data, gpus=1 if torch.cuda.is_available() else 0)\n",
    "        return score.scores\n",
    "    except Exception as e:\n",
    "        print(f\"[COMET-KIWI ERROR] {e}\")\n",
    "        return [float(\"nan\")] * len(srcs)"
   ]
  },
  {
   "cell_type": "code",
   "execution_count": null,
   "id": "cac68e29",
   "metadata": {},
   "outputs": [],
   "source": [
    "# 5 Results + getting translations\n",
    "def get_results_batched(examples, source_field, target_field, prompt_template, direction, results_list):\n",
    "    strategies = [\"greedy\"]\n",
    "\n",
    "    for strategy in strategies:\n",
    "        print(f\"\\n[Strategy: {strategy}]\")\n",
    "\n",
    "        prompts = []\n",
    "        sources = []\n",
    "        references = []\n",
    "\n",
    "        # Generate prompts and collect source/reference\n",
    "        for ex in examples:\n",
    "            source = ex[source_field]\n",
    "            reference = ex[target_field]\n",
    "            prompt = prompt_template.format(source=source)\n",
    "\n",
    "            prompts.append(prompt)\n",
    "            sources.append(source)\n",
    "            references.append(reference)\n",
    "\n",
    "        # Generate translations in batch + log probs + perplexities\n",
    "        translations = []\n",
    "        log_probs = []\n",
    "        perplexities = []\n",
    "        for prompt in tqdm(prompts, desc=f\"Translating ({strategy})\"):\n",
    "            try:\n",
    "                translation, log_prob, ppl = generate_translation(prompt, strategy)\n",
    "                translations.append(translation)\n",
    "                log_probs.append(log_prob)\n",
    "                perplexities.append(ppl)\n",
    "            except Exception as e:\n",
    "                print(f\"[ERROR] Strategy {strategy}: {e}\")\n",
    "                translations.append(\"\")\n",
    "                log_probs.append(float(\"nan\"))\n",
    "                perplexities.append(float(\"nan\"))\n",
    "\n",
    "        # Compute BLEU and METEOR in batch\n",
    "        bleu_scores = compute_bleu(translations, references)\n",
    "        meteor_scores = compute_meteor(translations, references)\n",
    "\n",
    "        # Compute COMET scores (aligned)\n",
    "        valid_indices = [i for i, t in enumerate(translations) if t.strip()]\n",
    "        comet_refs = [float(\"nan\")] * len(translations)\n",
    "        comet_wmt = [float(\"nan\")] * len(translations)\n",
    "\n",
    "        try:\n",
    "            valid_sources = [sources[i] for i in valid_indices]\n",
    "            valid_refs = [references[i] for i in valid_indices]\n",
    "            valid_trans = [translations[i] for i in valid_indices]\n",
    "\n",
    "            comet_ref_scores = compute_comet_ref(valid_sources, valid_trans, valid_refs)\n",
    "            comet_wmt_scores = compute_cometkiwi(valid_sources, valid_trans)\n",
    "\n",
    "            for j, idx in enumerate(valid_indices):\n",
    "                comet_refs[idx] = comet_ref_scores[j]\n",
    "                comet_wmt[idx] = comet_wmt_scores[j]\n",
    "        except Exception as e:\n",
    "            print(f\"[COMET ERROR] {e}\")\n",
    "\n",
    "        # Store results\n",
    "        for i in range(len(translations)):\n",
    "            results_list.append({\n",
    "                \"source\": sources[i],\n",
    "                \"reference\": references[i],\n",
    "                \"strategy\": strategy,\n",
    "                \"translation\": translations[i],\n",
    "                \"total_log_probs\": log_probs[i],\n",
    "                \"perplexity\": perplexities[i],\n",
    "                \"bleu\": bleu_scores[i],\n",
    "                \"meteor\": meteor_scores[i],\n",
    "                \"comet_ref\": comet_refs[i],\n",
    "                \"comet_wmt22\": comet_wmt[i]\n",
    "            })"
   ]
  },
  {
   "cell_type": "code",
   "execution_count": null,
   "id": "e72e361f",
   "metadata": {},
   "outputs": [],
   "source": [
    "# Destination results\n",
    "output_dir = \"csv_results_3b\"\n",
    "os.makedirs(output_dir, exist_ok=True)"
   ]
  },
  {
   "cell_type": "code",
   "execution_count": null,
   "id": "a8b39526",
   "metadata": {},
   "outputs": [
    {
     "name": "stdout",
     "output_type": "stream",
     "text": [
      "\n",
      "[Strategy: greedy]\n"
     ]
    },
    {
     "name": "stderr",
     "output_type": "stream",
     "text": [
      "Translating (greedy): 100%|██████████| 997/997 [21:27<00:00,  1.29s/it]\n",
      "You are using the plain ModelCheckpoint callback. Consider using LitModelCheckpoint which with seamless uploading to Model registry.\n",
      "GPU available: True (cuda), used: True\n",
      "TPU available: False, using: 0 TPU cores\n",
      "HPU available: False, using: 0 HPUs\n",
      "You are using a CUDA device ('NVIDIA GeForce RTX 4060 Laptop GPU') that has Tensor Cores. To properly utilize them, you should set `torch.set_float32_matmul_precision('medium' | 'high')` which will trade-off precision for performance. For more details, read https://pytorch.org/docs/stable/generated/torch.set_float32_matmul_precision.html#torch.set_float32_matmul_precision\n",
      "LOCAL_RANK: 0 - CUDA_VISIBLE_DEVICES: [0]\n",
      "Predicting DataLoader 0: 100%|██████████| 63/63 [05:46<00:00,  5.50s/it]\n",
      "You are using the plain ModelCheckpoint callback. Consider using LitModelCheckpoint which with seamless uploading to Model registry.\n",
      "GPU available: True (cuda), used: True\n",
      "TPU available: False, using: 0 TPU cores\n",
      "HPU available: False, using: 0 HPUs\n",
      "LOCAL_RANK: 0 - CUDA_VISIBLE_DEVICES: [0]\n",
      "Predicting DataLoader 0: 100%|██████████| 63/63 [03:31<00:00,  3.36s/it]\n"
     ]
    }
   ],
   "source": [
    "# zho to eng\n",
    "results_to_eng = []\n",
    "source_field = \"sentence_zho_Hans\"\n",
    "target_field = \"sentence_eng_Latn\"\n",
    "prompt_zh2en = \"\"\"Task: Translate the following Chinese text to English.\n",
    "\n",
    "Chinese text: {source}\n",
    "\n",
    "English translation:\"\"\".strip()\n",
    "\n",
    "get_results_batched(\n",
    "    examples=lang_pairs[\"zho-eng\"].select(range(len(lang_pairs[\"zho-eng\"]))),\n",
    "    source_field=source_field,\n",
    "    target_field=target_field,\n",
    "    prompt_template=prompt_zh2en,\n",
    "    direction=\"zho-eng\",\n",
    "    results_list=results_to_eng\n",
    ")"
   ]
  },
  {
   "cell_type": "code",
   "execution_count": null,
   "id": "fbf3f8ea",
   "metadata": {},
   "outputs": [
    {
     "name": "stdout",
     "output_type": "stream",
     "text": [
      "                                              source  \\\n",
      "0  周一，斯坦福大学医学院的科学家宣布，他们发明了一种可以将细胞按类型分类的新型诊断工具：一种可...   \n",
      "1  主要研究人员表示，这可以让低收入国家/地区的患者尽早发现癌症、肺结核、艾滋病和疟疾。在这些国...   \n",
      "2  当地时间上午 9:30 左右 (UTC 0230)，JAS 39C 鹰狮战斗机撞上跑道并发生...   \n",
      "3            涉事飞行员是空军中队长迪罗里·帕塔维 (Dilokrit Pattavee)。   \n",
      "4                           当地媒体报道，一辆机场消防车在响应火警时翻了车。   \n",
      "\n",
      "                                           reference strategy  \\\n",
      "0  On Monday, scientists from the Stanford Univer...   greedy   \n",
      "1  Lead researchers say this may bring early dete...   greedy   \n",
      "2  The JAS 39C Gripen crashed onto a runway at ar...   greedy   \n",
      "3  The pilot was identified as Squadron Leader Di...   greedy   \n",
      "4  Local media reports an airport fire vehicle ro...   greedy   \n",
      "\n",
      "                                         translation  total_log_probs  \\\n",
      "0  Monday, Stanford University's medical scientis...       -22.328125   \n",
      "1  The main researchers said that this can help l...       -23.593750   \n",
      "2  Local time today is 9:30 AM (0230 UTC). JAS 39...       -13.593750   \n",
      "3  The pilot involved is Squadron Leader Dilokrit...        -2.189453   \n",
      "4  Local media reports that an airport fire rescu...        -5.066406   \n",
      "\n",
      "   perplexity       bleu    meteor  comet_ref  comet_wmt22  \n",
      "0    1.723899  27.770080  0.592035   0.858384     0.799842  \n",
      "1    1.777943  22.955480  0.517930   0.839347     0.770889  \n",
      "2    1.491550  51.354723  0.846509   0.886210     0.801505  \n",
      "3    1.146646  45.936133  0.698825   0.886094     0.823924  \n",
      "4    1.325072  36.005659  0.925278   0.884332     0.836599  \n"
     ]
    }
   ],
   "source": [
    "# Store in CSV\n",
    "results_to_eng_df = pd.DataFrame(results_to_eng)\n",
    "results_to_eng_df.to_csv(os.path.join(output_dir, \"zho-eng_bloomz-3b_flores200_results.csv\"), index=False)\n",
    "print(results_to_eng_df.head())"
   ]
  },
  {
   "cell_type": "code",
   "execution_count": null,
   "id": "d9d84746",
   "metadata": {},
   "outputs": [
    {
     "name": "stdout",
     "output_type": "stream",
     "text": [
      "\n",
      "[Strategy: greedy]\n"
     ]
    },
    {
     "name": "stderr",
     "output_type": "stream",
     "text": [
      "Translating (greedy): 100%|██████████| 997/997 [22:34<00:00,  1.36s/it]\n",
      "You are using the plain ModelCheckpoint callback. Consider using LitModelCheckpoint which with seamless uploading to Model registry.\n",
      "GPU available: True (cuda), used: True\n",
      "TPU available: False, using: 0 TPU cores\n",
      "HPU available: False, using: 0 HPUs\n",
      "LOCAL_RANK: 0 - CUDA_VISIBLE_DEVICES: [0]\n",
      "Predicting DataLoader 0: 100%|██████████| 63/63 [05:57<00:00,  5.68s/it]\n",
      "You are using the plain ModelCheckpoint callback. Consider using LitModelCheckpoint which with seamless uploading to Model registry.\n",
      "GPU available: True (cuda), used: True\n",
      "TPU available: False, using: 0 TPU cores\n",
      "HPU available: False, using: 0 HPUs\n",
      "LOCAL_RANK: 0 - CUDA_VISIBLE_DEVICES: [0]\n",
      "Predicting DataLoader 0: 100%|██████████| 63/63 [03:57<00:00,  3.77s/it]\n"
     ]
    }
   ],
   "source": [
    "# fra to eng\n",
    "results_to_eng = []\n",
    "source_field = \"sentence_fra_Latn\"\n",
    "target_field = \"sentence_eng_Latn\"\n",
    "prompt_fr2en = \"\"\"Task: Translate the following French text to English.\n",
    "\n",
    "French text: {source}\n",
    "\n",
    "English translation:\"\"\".strip()\n",
    "\n",
    "get_results_batched(\n",
    "    examples=lang_pairs[\"fra-eng\"].select(range(len(lang_pairs[\"zho-eng\"]))),\n",
    "    source_field=source_field,\n",
    "    target_field=target_field,\n",
    "    prompt_template=prompt_fr2en,\n",
    "    direction=\"fra-eng\",\n",
    "    results_list=results_to_eng\n",
    ")"
   ]
  },
  {
   "cell_type": "code",
   "execution_count": null,
   "id": "f4e3c0a9",
   "metadata": {},
   "outputs": [
    {
     "name": "stdout",
     "output_type": "stream",
     "text": [
      "                                              source  \\\n",
      "0  Des scientifiques de l’école de médecine de l’...   \n",
      "1  Selon les chercheurs principaux, cela pourrait...   \n",
      "2  Le JAS 39C Gripen s’est écrasé sur une piste a...   \n",
      "3  Le pilote a été identifié comme étant le chef ...   \n",
      "4  La presse locale a rapporté qu'un véhicule de ...   \n",
      "\n",
      "                                           reference strategy  \\\n",
      "0  On Monday, scientists from the Stanford Univer...   greedy   \n",
      "1  Lead researchers say this may bring early dete...   greedy   \n",
      "2  The JAS 39C Gripen crashed onto a runway at ar...   greedy   \n",
      "3  The pilot was identified as Squadron Leader Di...   greedy   \n",
      "4  Local media reports an airport fire vehicle ro...   greedy   \n",
      "\n",
      "                                         translation  total_log_probs  \\\n",
      "0  French text: Scientists from Stanford Universi...       -22.546875   \n",
      "1  Researchers say this could help detect early c...       -13.906250   \n",
      "2  The JAS 39C Gripen crashed onto a runway aroun...        -6.132812   \n",
      "3  French text: The pilot was identified as Squad...        -2.263672   \n",
      "4  Local press reported that an airport fire resc...        -6.890625   \n",
      "\n",
      "   perplexity       bleu    meteor  comet_ref  comet_wmt22  \n",
      "0    1.530222  33.014562  0.758742   0.859652     0.843809  \n",
      "1    1.371700  39.880664  0.737956   0.907529     0.874717  \n",
      "2    1.204233  81.787844  0.934533   0.934914     0.880007  \n",
      "3    1.126528  73.617034  0.970388   0.861373     0.841118  \n",
      "4    1.699014  22.781556  0.685700   0.853775     0.641133  \n"
     ]
    }
   ],
   "source": [
    "# Store in CSV\n",
    "results_to_eng_df = pd.DataFrame(results_to_eng)\n",
    "results_to_eng_df.to_csv(os.path.join(output_dir, \"fra-eng_bloomz-3b_flores200_results.csv\"), index=False)\n",
    "print(results_to_eng_df.head())"
   ]
  },
  {
   "cell_type": "code",
   "execution_count": null,
   "id": "3f730f7c",
   "metadata": {},
   "outputs": [
    {
     "name": "stdout",
     "output_type": "stream",
     "text": [
      "\n",
      "[Strategy: greedy]\n"
     ]
    },
    {
     "name": "stderr",
     "output_type": "stream",
     "text": [
      "Translating (greedy): 100%|██████████| 997/997 [23:47<00:00,  1.43s/it]\n",
      "You are using the plain ModelCheckpoint callback. Consider using LitModelCheckpoint which with seamless uploading to Model registry.\n",
      "GPU available: True (cuda), used: True\n",
      "TPU available: False, using: 0 TPU cores\n",
      "HPU available: False, using: 0 HPUs\n",
      "You are using a CUDA device ('NVIDIA GeForce RTX 4060 Laptop GPU') that has Tensor Cores. To properly utilize them, you should set `torch.set_float32_matmul_precision('medium' | 'high')` which will trade-off precision for performance. For more details, read https://pytorch.org/docs/stable/generated/torch.set_float32_matmul_precision.html#torch.set_float32_matmul_precision\n",
      "LOCAL_RANK: 0 - CUDA_VISIBLE_DEVICES: [0]\n",
      "Predicting DataLoader 0: 100%|██████████| 63/63 [05:57<00:00,  5.68s/it]\n",
      "You are using the plain ModelCheckpoint callback. Consider using LitModelCheckpoint which with seamless uploading to Model registry.\n",
      "GPU available: True (cuda), used: True\n",
      "TPU available: False, using: 0 TPU cores\n",
      "HPU available: False, using: 0 HPUs\n",
      "LOCAL_RANK: 0 - CUDA_VISIBLE_DEVICES: [0]\n",
      "Predicting DataLoader 0: 100%|██████████| 63/63 [03:27<00:00,  3.29s/it]\n"
     ]
    }
   ],
   "source": [
    "# nld tp eng\n",
    "results_to_eng = []\n",
    "source_field = \"sentence_nld_Latn\"\n",
    "target_field = \"sentence_eng_Latn\"\n",
    "prompt_nl2en = \"\"\"Task: Translate the following Dutch text to English.\n",
    "\n",
    "Dutch text: {source}\n",
    "\n",
    "English translation:\"\"\".strip()\n",
    "\n",
    "get_results_batched(\n",
    "    examples=lang_pairs[\"nld-eng\"].select(range(len(lang_pairs[\"zho-eng\"]))),\n",
    "    source_field=source_field,\n",
    "    target_field=target_field,\n",
    "    prompt_template=prompt_nl2en,\n",
    "    direction=\"nld-eng\",\n",
    "    results_list=results_to_eng\n",
    ")"
   ]
  },
  {
   "cell_type": "code",
   "execution_count": null,
   "id": "910436e8",
   "metadata": {},
   "outputs": [
    {
     "name": "stdout",
     "output_type": "stream",
     "text": [
      "                                              source  \\\n",
      "0  Op maandag kondigden wetenschappers van de Sta...   \n",
      "1  Hoofdonderzoekers zeggen dat dit kan leiden to...   \n",
      "2  De JAS 39C Gripen stortte rond 09.30 uur lokal...   \n",
      "3  De piloot werd geïdentificeerd als majoor Dilo...   \n",
      "4  De lokale media meldt dat er tijdens een actie...   \n",
      "\n",
      "                                           reference strategy  \\\n",
      "0  On Monday, scientists from the Stanford Univer...   greedy   \n",
      "1  Lead researchers say this may bring early dete...   greedy   \n",
      "2  The JAS 39C Gripen crashed onto a runway at ar...   greedy   \n",
      "3  The pilot was identified as Squadron Leader Di...   greedy   \n",
      "4  Local media reports an airport fire vehicle ro...   greedy   \n",
      "\n",
      "                                         translation  total_log_probs  \\\n",
      "0  On Monday, scientists from the Stanford Univer...       -33.750000   \n",
      "1  Dutch text: Researchers say that this is the f...       -36.718750   \n",
      "2  Dutch text: The JAS 39C Gripen crashed around ...       -12.171875   \n",
      "3  Dutch text: The pilot was identified as Dilokr...        -2.761719   \n",
      "4  Dutch text: Local media reports that a brand n...       -10.000000   \n",
      "\n",
      "   perplexity       bleu    meteor  comet_ref  comet_wmt22  \n",
      "0    1.738945  45.943719  0.752257   0.864565     0.803860  \n",
      "1    2.084179  16.032881  0.312755   0.635728     0.498462  \n",
      "2    1.377558  33.990331  0.712843   0.878561     0.849774  \n",
      "3    1.188399  46.924701  0.785891   0.830475     0.707936  \n",
      "4    1.491825   7.305267  0.343077   0.568181     0.589290  \n"
     ]
    }
   ],
   "source": [
    "# Store in CSV\n",
    "results_to_eng_df = pd.DataFrame(results_to_eng)\n",
    "results_to_eng_df.to_csv(os.path.join(output_dir, \"nld-eng_bloomz-3b_flores200_results.csv\"), index=False)\n",
    "print(results_to_eng_df.head())"
   ]
  },
  {
   "cell_type": "code",
   "execution_count": null,
   "id": "9a57c369",
   "metadata": {},
   "outputs": [
    {
     "name": "stdout",
     "output_type": "stream",
     "text": [
      "\n",
      "[Strategy: greedy]\n"
     ]
    },
    {
     "name": "stderr",
     "output_type": "stream",
     "text": [
      "Translating (greedy): 100%|██████████| 997/997 [25:09<00:00,  1.51s/it]\n",
      "You are using the plain ModelCheckpoint callback. Consider using LitModelCheckpoint which with seamless uploading to Model registry.\n",
      "GPU available: True (cuda), used: True\n",
      "TPU available: False, using: 0 TPU cores\n",
      "HPU available: False, using: 0 HPUs\n",
      "LOCAL_RANK: 0 - CUDA_VISIBLE_DEVICES: [0]\n",
      "Predicting DataLoader 0: 100%|██████████| 63/63 [08:03<00:00,  7.67s/it]\n",
      "You are using the plain ModelCheckpoint callback. Consider using LitModelCheckpoint which with seamless uploading to Model registry.\n",
      "GPU available: True (cuda), used: True\n",
      "TPU available: False, using: 0 TPU cores\n",
      "HPU available: False, using: 0 HPUs\n",
      "LOCAL_RANK: 0 - CUDA_VISIBLE_DEVICES: [0]\n",
      "Predicting DataLoader 0: 100%|██████████| 63/63 [05:53<00:00,  5.62s/it]\n"
     ]
    }
   ],
   "source": [
    "# khk to eng\n",
    "results_to_eng = []\n",
    "source_field = \"sentence_khk_Cyrl\"\n",
    "target_field = \"sentence_eng_Latn\"\n",
    "prompt_kh2en = \"\"\"Task: Translate the following Mongolian text to English.\n",
    "\n",
    "Mongolian text: {source}\n",
    "\n",
    "English translation:\"\"\".strip()\n",
    "\n",
    "get_results_batched(\n",
    "    examples=lang_pairs[\"khk-eng\"].select(range(len(lang_pairs[\"zho-eng\"]))),\n",
    "    source_field=source_field,\n",
    "    target_field=target_field,\n",
    "    prompt_template=prompt_kh2en,\n",
    "    direction=\"khk-eng\",\n",
    "    results_list=results_to_eng\n",
    ")"
   ]
  },
  {
   "cell_type": "code",
   "execution_count": null,
   "id": "637b6ba8",
   "metadata": {},
   "outputs": [
    {
     "name": "stdout",
     "output_type": "stream",
     "text": [
      "                                              source  \\\n",
      "0  Даваа гарагт Стэнфордын Их Сургуулийн Анагаахы...   \n",
      "1  Гол судлаачдын зүгээс энэ нь хөхний хорт хавда...   \n",
      "2  ЖАС 39Си Грипен нь орон нутгийн цагаар өглөөни...   \n",
      "3  Нисгэгч нь Эскадрилийн аххлагч Дилокрит Паттав...   \n",
      "4  Нисэх онгоцны буудлын галын машин өнхөрсөн тал...   \n",
      "\n",
      "                                           reference strategy  \\\n",
      "0  On Monday, scientists from the Stanford Univer...   greedy   \n",
      "1  Lead researchers say this may bring early dete...   greedy   \n",
      "2  The JAS 39C Gripen crashed onto a runway at ar...   greedy   \n",
      "3  The pilot was identified as Squadron Leader Di...   greedy   \n",
      "4  Local media reports an airport fire vehicle ro...   greedy   \n",
      "\n",
      "                                         translation  total_log_probs  \\\n",
      "0  Mongolian text: Davaa Gari Gari - The Mongolia...        -36.56250   \n",
      "1  Mongolian text: The Mongolian word for \"good l...        -32.18750   \n",
      "2  Mongolian text: Mongolian text: 39S.G. Gripen ...        -48.03125   \n",
      "3  Mongolian text: The Mongolian language is a br...        -16.15625   \n",
      "4  Mongolian text: Nissh Ongochani Buludlyin Galu...        -51.56250   \n",
      "\n",
      "   perplexity      bleu    meteor  comet_ref  comet_wmt22  \n",
      "0    3.873532  0.702894  0.092166   0.337741     0.442683  \n",
      "1    3.448643  1.034868  0.065274   0.368204     0.455967  \n",
      "2    2.907696  3.607375  0.241823   0.573932     0.487593  \n",
      "3    2.453632  3.377156  0.096154   0.410967     0.365777  \n",
      "4    3.228040  2.839839  0.040984   0.308106     0.514357  \n"
     ]
    }
   ],
   "source": [
    "# Store in CSV\n",
    "results_to_eng_df = pd.DataFrame(results_to_eng)\n",
    "results_to_eng_df.to_csv(os.path.join(output_dir, \"khk-eng_bloomz-3b_flores200_results.csv\"), index=False)\n",
    "print(results_to_eng_df.head())"
   ]
  }
 ],
 "metadata": {
  "kernelspec": {
   "display_name": "base",
   "language": "python",
   "name": "python3"
  },
  "language_info": {
   "codemirror_mode": {
    "name": "ipython",
    "version": 3
   },
   "file_extension": ".py",
   "mimetype": "text/x-python",
   "name": "python",
   "nbconvert_exporter": "python",
   "pygments_lexer": "ipython3",
   "version": "3.12.7"
  }
 },
 "nbformat": 4,
 "nbformat_minor": 5
}
